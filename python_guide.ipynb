{
 "cells": [
  {
   "cell_type": "markdown",
   "id": "717a007b",
   "metadata": {},
   "source": [
    "List\n"
   ]
  },
  {
   "cell_type": "code",
   "execution_count": 8,
   "id": "682bd6c8",
   "metadata": {},
   "outputs": [],
   "source": [
    "x = [1, 3, 2, 5]\n"
   ]
  },
  {
   "cell_type": "markdown",
   "id": "f9da9804",
   "metadata": {},
   "source": [
    "Loop on a list"
   ]
  },
  {
   "cell_type": "code",
   "execution_count": 9,
   "id": "02717da2",
   "metadata": {},
   "outputs": [
    {
     "name": "stdout",
     "output_type": "stream",
     "text": [
      "This number  501 is not greater so lets make it greater  [501]\n",
      "This number  501 is not greater so lets make it greater  [501, 501]\n",
      "This number  501 is not greater so lets make it greater  [501, 501, 501]\n",
      "This number  501 is not greater so lets make it greater  [501, 501, 501, 501]\n"
     ]
    }
   ],
   "source": [
    "new_list = []\n",
    "\n",
    "for item in x:\n",
    "    if item > 500:\n",
    "        print(\"this value is greater \", item)\n",
    "    else:\n",
    "        steps = 0\n",
    "        while item <= 500:\n",
    "            item += 1\n",
    "        new_list.append(item)\n",
    "        print(\"This number \" , item , \"is not greater so lets make it greater \" , new_list)"
   ]
  },
  {
   "cell_type": "markdown",
   "id": "03d5f9ca",
   "metadata": {},
   "source": [
    "Using indexing operator"
   ]
  },
  {
   "cell_type": "code",
   "execution_count": null,
   "id": "2a23910a",
   "metadata": {},
   "outputs": [],
   "source": [
    "i = 0\n",
    "while (i != len(x)):\n",
    "    print(x[i])\n",
    "    i = i + 1"
   ]
  },
  {
   "cell_type": "markdown",
   "id": "5b05a0b4",
   "metadata": {},
   "source": [
    "Slicing strings"
   ]
  },
  {
   "cell_type": "code",
   "execution_count": null,
   "id": "201cd323",
   "metadata": {},
   "outputs": [],
   "source": [
    "x = 'This is a string'\n",
    "print(x[0])  #first character\n",
    "print(x[0:1])  #first character, but we have explicitly set the end character\n",
    "print(x[0:2])  #first two characters\n",
    "\n",
    "x[-4:-2] #This will return the slice starting from the 4th element from the end and stopping before the 2nd element from the end.\n"
   ]
  },
  {
   "cell_type": "code",
   "execution_count": null,
   "id": "6bbe8f45",
   "metadata": {},
   "outputs": [],
   "source": [
    "firstname = 'Christopher'\n",
    "lastname = 'Brooks'\n",
    "\n",
    "print(firstname + ' ' + lastname)\n",
    "print(firstname * 3)\n",
    "print('Chris' in firstname)\n",
    "\n",
    "firstname = 'Christopher Arthur Hansen Brooks'.split(' ')[0]  # [0] selects the first element of the list\n",
    "lastname = 'Christopher Arthur Hansen Brooks'.split(' ')[-1]  # [-1] selects the last element of the list\n",
    "print(firstname)\n",
    "print(lastname)"
   ]
  },
  {
   "cell_type": "markdown",
   "id": "deb6ce28",
   "metadata": {},
   "source": [
    "Dictionary"
   ]
  },
  {
   "cell_type": "code",
   "execution_count": null,
   "id": "34b4514e",
   "metadata": {},
   "outputs": [],
   "source": [
    "x = {'Christopher Brooks': 'brooksch@umich.edu', 'Bill Gates': 'billg@microsoft.com'}\n",
    "x['Christopher Brooks']  # Retrieve a value by using the indexing operator\n",
    "\n",
    "#Iterate over all of the keys:\n",
    "for name in x:\n",
    "    print(x[name])\n",
    "\n",
    "#Iterate over all of the values:\n",
    "for email in x.values():\n",
    "    print(email)\n",
    "\n",
    "#You can unpack a sequence into different variables:\n",
    "x = ('Christopher', 'Brooks', 'brooksch@umich.edu')\n",
    "fname, lname, email = x"
   ]
  },
  {
   "cell_type": "markdown",
   "id": "2fbff7df",
   "metadata": {},
   "source": [
    "Reading CSV files"
   ]
  },
  {
   "cell_type": "code",
   "execution_count": null,
   "id": "a413058e",
   "metadata": {},
   "outputs": [],
   "source": [
    "import csv\n",
    "\n",
    "%precision 2\n",
    "\n",
    "with open('datasets/mpg.csv') as csvfile:\n",
    "    mpg = list(csv.DictReader(csvfile))\n",
    "\n",
    "mpg[:3]  # The first three dictionaries in our list."
   ]
  },
  {
   "cell_type": "markdown",
   "id": "a24793ee",
   "metadata": {},
   "source": [
    "Classes"
   ]
  },
  {
   "cell_type": "code",
   "execution_count": null,
   "id": "28d227c2",
   "metadata": {},
   "outputs": [],
   "source": [
    "class Person:\n",
    "    department = 'School of Information'  #a class variable\n",
    "\n",
    "    def set_name(self, new_name):  #a method\n",
    "        self.name = new_name\n",
    "\n",
    "    def set_location(self, new_location):\n",
    "        self.location = new_location\n",
    "\n",
    "\n",
    "person = Person()\n",
    "person.set_name('Christopher Brooks')\n",
    "person.set_location('Ann Arbor, MI, USA')\n",
    "print('{} live in {} and works in the department {}'.format(person.name, person.location, person.department))\n",
    "\n",
    "\n",
    "people = ['Dr. Christopher Brooks', 'Dr. Kevyn Collins-Thompson', 'Dr. VG Vinod Vydiswaran', 'Dr. Daniel Romero']\n",
    "\n",
    "def split_title_and_name(person):\n",
    "    parts = person.split()\n",
    "    title = parts[0]\n",
    "    last = parts[2]\n",
    "    return f\"{title} {last}\"\n",
    "\n",
    "splitted = list(map(split_title_and_name, people))\n",
    "print(splitted)\n"
   ]
  },
  {
   "cell_type": "markdown",
   "id": "177425c8",
   "metadata": {},
   "source": [
    "Lambda"
   ]
  },
  {
   "cell_type": "code",
   "execution_count": null,
   "id": "fb5b35bd",
   "metadata": {},
   "outputs": [],
   "source": [
    "people = ['Dr. Christopher Brooks', 'Dr. Kevyn Collins-Thompson', 'Dr. VG Vinod Vydiswaran', 'Dr. Daniel Romero']\n",
    "\n",
    "my_function = list(map(lambda person: person.split()[0] + person.split()[-1], people))\n",
    "print(my_function)"
   ]
  }
 ],
 "metadata": {
  "kernelspec": {
   "display_name": "base",
   "language": "python",
   "name": "python3"
  },
  "language_info": {
   "codemirror_mode": {
    "name": "ipython",
    "version": 3
   },
   "file_extension": ".py",
   "mimetype": "text/x-python",
   "name": "python",
   "nbconvert_exporter": "python",
   "pygments_lexer": "ipython3",
   "version": "3.12.4"
  }
 },
 "nbformat": 4,
 "nbformat_minor": 5
}
