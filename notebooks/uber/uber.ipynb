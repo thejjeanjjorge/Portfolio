{
 "cells": [
  {
   "cell_type": "markdown",
   "id": "16097a59",
   "metadata": {},
   "source": [
    "# Uber Analysis #"
   ]
  },
  {
   "cell_type": "markdown",
   "id": "1e6ed01a",
   "metadata": {},
   "source": [
    "**To:** Operations & Strategy Stakeholders (Uber Rides Division)\n",
    "\n",
    "**From:** Jean Fernandes (Data Analytics Team)\n",
    "\n",
    "**Subject:** Analysis of Ride Data for Operational Insights - Draft\n",
    "\n"
   ]
  },
  {
   "cell_type": "markdown",
   "id": "4475c59a",
   "metadata": {},
   "source": [
    "## Executive Summary"
   ]
  },
  {
   "cell_type": "markdown",
   "id": "b63862a6",
   "metadata": {},
   "source": [
    "We analyzed the dataset..."
   ]
  },
  {
   "cell_type": "markdown",
   "id": "9668bf0c",
   "metadata": {},
   "source": [
    "## Loading the data"
   ]
  },
  {
   "cell_type": "code",
   "execution_count": 3,
   "id": "7b9cd0b1",
   "metadata": {},
   "outputs": [
    {
     "data": {
      "text/html": [
       "<div>\n",
       "<style scoped>\n",
       "    .dataframe tbody tr th:only-of-type {\n",
       "        vertical-align: middle;\n",
       "    }\n",
       "\n",
       "    .dataframe tbody tr th {\n",
       "        vertical-align: top;\n",
       "    }\n",
       "\n",
       "    .dataframe thead th {\n",
       "        text-align: right;\n",
       "    }\n",
       "</style>\n",
       "<table border=\"1\" class=\"dataframe\">\n",
       "  <thead>\n",
       "    <tr style=\"text-align: right;\">\n",
       "      <th></th>\n",
       "      <th>Date</th>\n",
       "      <th>Time</th>\n",
       "      <th>Booking ID</th>\n",
       "      <th>Booking Status</th>\n",
       "      <th>Customer ID</th>\n",
       "      <th>Vehicle Type</th>\n",
       "      <th>Pickup Location</th>\n",
       "      <th>Drop Location</th>\n",
       "      <th>Avg VTAT</th>\n",
       "      <th>Avg CTAT</th>\n",
       "      <th>...</th>\n",
       "      <th>Reason for cancelling by Customer</th>\n",
       "      <th>Cancelled Rides by Driver</th>\n",
       "      <th>Driver Cancellation Reason</th>\n",
       "      <th>Incomplete Rides</th>\n",
       "      <th>Incomplete Rides Reason</th>\n",
       "      <th>Booking Value</th>\n",
       "      <th>Ride Distance</th>\n",
       "      <th>Driver Ratings</th>\n",
       "      <th>Customer Rating</th>\n",
       "      <th>Payment Method</th>\n",
       "    </tr>\n",
       "  </thead>\n",
       "  <tbody>\n",
       "    <tr>\n",
       "      <th>0</th>\n",
       "      <td>2024-03-23</td>\n",
       "      <td>12:29:38</td>\n",
       "      <td>\"CNR5884300\"</td>\n",
       "      <td>No Driver Found</td>\n",
       "      <td>\"CID1982111\"</td>\n",
       "      <td>eBike</td>\n",
       "      <td>Palam Vihar</td>\n",
       "      <td>Jhilmil</td>\n",
       "      <td>NaN</td>\n",
       "      <td>NaN</td>\n",
       "      <td>...</td>\n",
       "      <td>NaN</td>\n",
       "      <td>NaN</td>\n",
       "      <td>NaN</td>\n",
       "      <td>NaN</td>\n",
       "      <td>NaN</td>\n",
       "      <td>NaN</td>\n",
       "      <td>NaN</td>\n",
       "      <td>NaN</td>\n",
       "      <td>NaN</td>\n",
       "      <td>NaN</td>\n",
       "    </tr>\n",
       "    <tr>\n",
       "      <th>1</th>\n",
       "      <td>2024-11-29</td>\n",
       "      <td>18:01:39</td>\n",
       "      <td>\"CNR1326809\"</td>\n",
       "      <td>Incomplete</td>\n",
       "      <td>\"CID4604802\"</td>\n",
       "      <td>Go Sedan</td>\n",
       "      <td>Shastri Nagar</td>\n",
       "      <td>Gurgaon Sector 56</td>\n",
       "      <td>4.9</td>\n",
       "      <td>14.0</td>\n",
       "      <td>...</td>\n",
       "      <td>NaN</td>\n",
       "      <td>NaN</td>\n",
       "      <td>NaN</td>\n",
       "      <td>1.0</td>\n",
       "      <td>Vehicle Breakdown</td>\n",
       "      <td>237.0</td>\n",
       "      <td>5.73</td>\n",
       "      <td>NaN</td>\n",
       "      <td>NaN</td>\n",
       "      <td>UPI</td>\n",
       "    </tr>\n",
       "    <tr>\n",
       "      <th>2</th>\n",
       "      <td>2024-08-23</td>\n",
       "      <td>08:56:10</td>\n",
       "      <td>\"CNR8494506\"</td>\n",
       "      <td>Completed</td>\n",
       "      <td>\"CID9202816\"</td>\n",
       "      <td>Auto</td>\n",
       "      <td>Khandsa</td>\n",
       "      <td>Malviya Nagar</td>\n",
       "      <td>13.4</td>\n",
       "      <td>25.8</td>\n",
       "      <td>...</td>\n",
       "      <td>NaN</td>\n",
       "      <td>NaN</td>\n",
       "      <td>NaN</td>\n",
       "      <td>NaN</td>\n",
       "      <td>NaN</td>\n",
       "      <td>627.0</td>\n",
       "      <td>13.58</td>\n",
       "      <td>4.9</td>\n",
       "      <td>4.9</td>\n",
       "      <td>Debit Card</td>\n",
       "    </tr>\n",
       "    <tr>\n",
       "      <th>3</th>\n",
       "      <td>2024-10-21</td>\n",
       "      <td>17:17:25</td>\n",
       "      <td>\"CNR8906825\"</td>\n",
       "      <td>Completed</td>\n",
       "      <td>\"CID2610914\"</td>\n",
       "      <td>Premier Sedan</td>\n",
       "      <td>Central Secretariat</td>\n",
       "      <td>Inderlok</td>\n",
       "      <td>13.1</td>\n",
       "      <td>28.5</td>\n",
       "      <td>...</td>\n",
       "      <td>NaN</td>\n",
       "      <td>NaN</td>\n",
       "      <td>NaN</td>\n",
       "      <td>NaN</td>\n",
       "      <td>NaN</td>\n",
       "      <td>416.0</td>\n",
       "      <td>34.02</td>\n",
       "      <td>4.6</td>\n",
       "      <td>5.0</td>\n",
       "      <td>UPI</td>\n",
       "    </tr>\n",
       "    <tr>\n",
       "      <th>4</th>\n",
       "      <td>2024-09-16</td>\n",
       "      <td>22:08:00</td>\n",
       "      <td>\"CNR1950162\"</td>\n",
       "      <td>Completed</td>\n",
       "      <td>\"CID9933542\"</td>\n",
       "      <td>Bike</td>\n",
       "      <td>Ghitorni Village</td>\n",
       "      <td>Khan Market</td>\n",
       "      <td>5.3</td>\n",
       "      <td>19.6</td>\n",
       "      <td>...</td>\n",
       "      <td>NaN</td>\n",
       "      <td>NaN</td>\n",
       "      <td>NaN</td>\n",
       "      <td>NaN</td>\n",
       "      <td>NaN</td>\n",
       "      <td>737.0</td>\n",
       "      <td>48.21</td>\n",
       "      <td>4.1</td>\n",
       "      <td>4.3</td>\n",
       "      <td>UPI</td>\n",
       "    </tr>\n",
       "  </tbody>\n",
       "</table>\n",
       "<p>5 rows × 21 columns</p>\n",
       "</div>"
      ],
      "text/plain": [
       "         Date      Time    Booking ID   Booking Status   Customer ID  \\\n",
       "0  2024-03-23  12:29:38  \"CNR5884300\"  No Driver Found  \"CID1982111\"   \n",
       "1  2024-11-29  18:01:39  \"CNR1326809\"       Incomplete  \"CID4604802\"   \n",
       "2  2024-08-23  08:56:10  \"CNR8494506\"        Completed  \"CID9202816\"   \n",
       "3  2024-10-21  17:17:25  \"CNR8906825\"        Completed  \"CID2610914\"   \n",
       "4  2024-09-16  22:08:00  \"CNR1950162\"        Completed  \"CID9933542\"   \n",
       "\n",
       "    Vehicle Type      Pickup Location      Drop Location  Avg VTAT  Avg CTAT  \\\n",
       "0          eBike          Palam Vihar            Jhilmil       NaN       NaN   \n",
       "1       Go Sedan        Shastri Nagar  Gurgaon Sector 56       4.9      14.0   \n",
       "2           Auto              Khandsa      Malviya Nagar      13.4      25.8   \n",
       "3  Premier Sedan  Central Secretariat           Inderlok      13.1      28.5   \n",
       "4           Bike     Ghitorni Village        Khan Market       5.3      19.6   \n",
       "\n",
       "   ...  Reason for cancelling by Customer Cancelled Rides by Driver  \\\n",
       "0  ...                                NaN                       NaN   \n",
       "1  ...                                NaN                       NaN   \n",
       "2  ...                                NaN                       NaN   \n",
       "3  ...                                NaN                       NaN   \n",
       "4  ...                                NaN                       NaN   \n",
       "\n",
       "   Driver Cancellation Reason Incomplete Rides  Incomplete Rides Reason  \\\n",
       "0                         NaN              NaN                      NaN   \n",
       "1                         NaN              1.0        Vehicle Breakdown   \n",
       "2                         NaN              NaN                      NaN   \n",
       "3                         NaN              NaN                      NaN   \n",
       "4                         NaN              NaN                      NaN   \n",
       "\n",
       "  Booking Value  Ride Distance  Driver Ratings  Customer Rating  \\\n",
       "0           NaN            NaN             NaN              NaN   \n",
       "1         237.0           5.73             NaN              NaN   \n",
       "2         627.0          13.58             4.9              4.9   \n",
       "3         416.0          34.02             4.6              5.0   \n",
       "4         737.0          48.21             4.1              4.3   \n",
       "\n",
       "   Payment Method  \n",
       "0             NaN  \n",
       "1             UPI  \n",
       "2      Debit Card  \n",
       "3             UPI  \n",
       "4             UPI  \n",
       "\n",
       "[5 rows x 21 columns]"
      ]
     },
     "execution_count": 3,
     "metadata": {},
     "output_type": "execute_result"
    }
   ],
   "source": [
    "#loading the data\n",
    "import pandas as pd\n",
    "\n",
    "df = pd.read_csv(\"data/ncr_ride_bookings.csv\")\n",
    "\n",
    "# print(df.shape)\n",
    "df.head()\n",
    "# df.info()\n",
    "# df.isnull().sum()\n"
   ]
  },
  {
   "cell_type": "markdown",
   "id": "835c4b4f",
   "metadata": {},
   "source": [
    "### 1. Ride Duration & Revenue Distributions  \n"
   ]
  },
  {
   "cell_type": "markdown",
   "id": "a92bb528",
   "metadata": {},
   "source": [
    "- Provide summary statistics (**mean, median, variance, percentiles**).  \n",
    "- Identify whether durations and revenues follow any known **continuous probability distributions**. "
   ]
  },
  {
   "cell_type": "markdown",
   "id": "6607ff02",
   "metadata": {},
   "source": [
    "Since we are working with trip duration and revenue, I will be using the following columns: Avg CTAT (Customer Trip Arrival Time) for trip duration, and Booking value for revenue. After a preliminary analysis of the data, we concluded that the dataset represents panel data as every row is a booking event with different attributes (time, ID, status)."
   ]
  },
  {
   "cell_type": "code",
   "execution_count": 4,
   "id": "7fec066a",
   "metadata": {},
   "outputs": [],
   "source": [
    "# First we will filter only completed rides\n",
    "df_completed = df[(df['Booking Status'] == \"Completed\") &\n",
    "                   (df['Booking Value'].notnull()) &\n",
    "                    (df['Avg CTAT'].notnull())]\n",
    "\n"
   ]
  },
  {
   "cell_type": "code",
   "execution_count": 5,
   "id": "7f1e1612",
   "metadata": {},
   "outputs": [
    {
     "data": {
      "text/html": [
       "<div>\n",
       "<style scoped>\n",
       "    .dataframe tbody tr th:only-of-type {\n",
       "        vertical-align: middle;\n",
       "    }\n",
       "\n",
       "    .dataframe tbody tr th {\n",
       "        vertical-align: top;\n",
       "    }\n",
       "\n",
       "    .dataframe thead th {\n",
       "        text-align: right;\n",
       "    }\n",
       "</style>\n",
       "<table border=\"1\" class=\"dataframe\">\n",
       "  <thead>\n",
       "    <tr style=\"text-align: right;\">\n",
       "      <th></th>\n",
       "      <th>Revenue</th>\n",
       "      <th>Ride_Duration</th>\n",
       "    </tr>\n",
       "  </thead>\n",
       "  <tbody>\n",
       "    <tr>\n",
       "      <th>2</th>\n",
       "      <td>627.0</td>\n",
       "      <td>25.8</td>\n",
       "    </tr>\n",
       "    <tr>\n",
       "      <th>3</th>\n",
       "      <td>416.0</td>\n",
       "      <td>28.5</td>\n",
       "    </tr>\n",
       "    <tr>\n",
       "      <th>4</th>\n",
       "      <td>737.0</td>\n",
       "      <td>19.6</td>\n",
       "    </tr>\n",
       "    <tr>\n",
       "      <th>5</th>\n",
       "      <td>316.0</td>\n",
       "      <td>18.1</td>\n",
       "    </tr>\n",
       "    <tr>\n",
       "      <th>6</th>\n",
       "      <td>640.0</td>\n",
       "      <td>20.4</td>\n",
       "    </tr>\n",
       "  </tbody>\n",
       "</table>\n",
       "</div>"
      ],
      "text/plain": [
       "   Revenue  Ride_Duration\n",
       "2    627.0           25.8\n",
       "3    416.0           28.5\n",
       "4    737.0           19.6\n",
       "5    316.0           18.1\n",
       "6    640.0           20.4"
      ]
     },
     "execution_count": 5,
     "metadata": {},
     "output_type": "execute_result"
    }
   ],
   "source": [
    "# Separating the two columns that we need\n",
    "df_analysis = df_completed[['Booking Value', 'Avg CTAT']].copy()\n",
    "\n",
    "#changing the name for clarity\n",
    "df_analysis.rename(columns={\n",
    "    'Avg CTAT': 'Ride_Duration',\n",
    "    'Booking Value': 'Revenue' }, inplace=True)\n",
    "\n",
    "df_analysis.head()\n"
   ]
  },
  {
   "cell_type": "code",
   "execution_count": 6,
   "id": "bea1797e",
   "metadata": {},
   "outputs": [
    {
     "data": {
      "text/html": [
       "<style type=\"text/css\">\n",
       "#T_90e2b caption {\n",
       "  caption-side: top;\n",
       "  font-size: 16px;\n",
       "  font-weight: bold;\n",
       "}\n",
       "#T_90e2b th {\n",
       "  background-color: #f0f0f0;\n",
       "  padding: 8px;\n",
       "}\n",
       "#T_90e2b td {\n",
       "  padding: 8px;\n",
       "  border: 1px solid #ddd;\n",
       "}\n",
       "#T_90e2b tr:hover {\n",
       "  background-color: #f5f5f5;\n",
       "}\n",
       "#T_90e2b_row0_col0, #T_90e2b_row0_col1 {\n",
       "  text-align: center;\n",
       "  background-color: #08306b;\n",
       "  color: #f1f1f1;\n",
       "}\n",
       "#T_90e2b_row0_col2, #T_90e2b_row0_col3 {\n",
       "  text-align: center;\n",
       "  background-color: #00441b;\n",
       "  color: #f1f1f1;\n",
       "}\n",
       "#T_90e2b_row1_col0, #T_90e2b_row1_col1 {\n",
       "  text-align: center;\n",
       "  background-color: #f7fbff;\n",
       "  color: #000000;\n",
       "}\n",
       "#T_90e2b_row1_col2, #T_90e2b_row1_col3 {\n",
       "  text-align: center;\n",
       "  background-color: #f7fcf5;\n",
       "  color: #000000;\n",
       "}\n",
       "</style>\n",
       "<table id=\"T_90e2b\">\n",
       "  <caption>Ride Statistics Summary</caption>\n",
       "  <thead>\n",
       "    <tr>\n",
       "      <th class=\"blank level0\" >&nbsp;</th>\n",
       "      <th id=\"T_90e2b_level0_col0\" class=\"col_heading level0 col0\" >Mean</th>\n",
       "      <th id=\"T_90e2b_level0_col1\" class=\"col_heading level0 col1\" >Median</th>\n",
       "      <th id=\"T_90e2b_level0_col2\" class=\"col_heading level0 col2\" >Std Dev</th>\n",
       "      <th id=\"T_90e2b_level0_col3\" class=\"col_heading level0 col3\" >Variance</th>\n",
       "    </tr>\n",
       "  </thead>\n",
       "  <tbody>\n",
       "    <tr>\n",
       "      <th id=\"T_90e2b_level0_row0\" class=\"row_heading level0 row0\" >Revenue</th>\n",
       "      <td id=\"T_90e2b_row0_col0\" class=\"data row0 col0\" >508</td>\n",
       "      <td id=\"T_90e2b_row0_col1\" class=\"data row0 col1\" >414</td>\n",
       "      <td id=\"T_90e2b_row0_col2\" class=\"data row0 col2\" >396</td>\n",
       "      <td id=\"T_90e2b_row0_col3\" class=\"data row0 col3\" >156863</td>\n",
       "    </tr>\n",
       "    <tr>\n",
       "      <th id=\"T_90e2b_level0_row1\" class=\"row_heading level0 row1\" >Ride_Duration</th>\n",
       "      <td id=\"T_90e2b_row1_col0\" class=\"data row1 col0\" >30</td>\n",
       "      <td id=\"T_90e2b_row1_col1\" class=\"data row1 col1\" >30</td>\n",
       "      <td id=\"T_90e2b_row1_col2\" class=\"data row1 col2\" >9</td>\n",
       "      <td id=\"T_90e2b_row1_col3\" class=\"data row1 col3\" >75</td>\n",
       "    </tr>\n",
       "  </tbody>\n",
       "</table>\n"
      ],
      "text/plain": [
       "<pandas.io.formats.style.Styler at 0x21873bb4ef0>"
      ]
     },
     "metadata": {},
     "output_type": "display_data"
    }
   ],
   "source": [
    "# Enhanced version\n",
    "styled_combined = pd.DataFrame({\n",
    "    'Mean': df_analysis.mean().round(0).astype(int),\n",
    "    'Median': df_analysis.median().round(0).astype(int),\n",
    "    'Std Dev': df_analysis.std().round(0).astype(int),\n",
    "    'Variance': df_analysis.var().round(0).astype(int)\n",
    "}).style\\\n",
    "    .set_properties(**{'text-align': 'center'})\\\n",
    "    .background_gradient(\n",
    "        subset=['Mean', 'Median'], cmap=\"Blues\")\\\n",
    "    .background_gradient(\n",
    "        subset=['Std Dev', 'Variance'], cmap=\"Greens\")\\\n",
    "    .format({\n",
    "        'Revenue': '${:.2f}',\n",
    "        'Ride_Duration': '{:.2f} min'\n",
    "    })\\\n",
    "    .set_caption(\"Ride Statistics Summary\")\\\n",
    "    .set_table_styles([\n",
    "        {'selector': 'caption', 'props': [\n",
    "            ('caption-side', 'top'),\n",
    "            ('font-size', '16px'),\n",
    "            ('font-weight', 'bold')]},\n",
    "        {'selector': 'th', 'props': [\n",
    "            ('background-color', '#f0f0f0'),\n",
    "            ('padding', '8px')]},\n",
    "        {'selector': 'td', 'props': [\n",
    "            ('padding', '8px'),\n",
    "            ('border', '1px solid #ddd')]},\n",
    "        {'selector': 'tr:hover', 'props': [\n",
    "            ('background-color', '#f5f5f5')]}\n",
    "    ])\n",
    "\n",
    "display(styled_combined)"
   ]
  },
  {
   "cell_type": "markdown",
   "id": "a1d6c6a7",
   "metadata": {},
   "source": [
    "## Business Insight:"
   ]
  },
  {
   "cell_type": "markdown",
   "id": "fea66607",
   "metadata": {},
   "source": [
    "\n",
    "**1. Central Tendency:**\n",
    "<br>\n",
    "    - Revenue: mean (508.17) is higher than the median (414.00), indicating right-skewed distribution. \n",
    "    <br>\n",
    "    - Ride Duration: mean (30.03) is almost equal to median (30.00), indicating symmetry. <br>\n",
    "    <br>\n",
    "\n",
    "**2. Dispersion:**<br>\n",
    "    - Revenue: high variance (156,863.00) and standard deviation (396) showing wide spread.\n",
    "    <br>\n",
    "    - Ride Duration: variance (74.83) and standard deviation (8.65) showing consistent trip times.\n",
    "<br>"
   ]
  },
  {
   "cell_type": "markdown",
   "id": "eb9b1b02",
   "metadata": {},
   "source": [
    "### Percentiles"
   ]
  },
  {
   "cell_type": "code",
   "execution_count": 7,
   "id": "f3daf6b6",
   "metadata": {},
   "outputs": [
    {
     "data": {
      "text/html": [
       "<style type=\"text/css\">\n",
       "#T_11692 caption {\n",
       "  caption-side: top;\n",
       "  font-size: 16px;\n",
       "  font-weight: bold;\n",
       "}\n",
       "#T_11692 th {\n",
       "  background-color: #f0f0f0;\n",
       "  padding: 8px;\n",
       "}\n",
       "#T_11692 td {\n",
       "  padding: 8px;\n",
       "  border: 1px solid #ddd;\n",
       "}\n",
       "#T_11692 tr:hover {\n",
       "  background-color: #f5f5f5;\n",
       "}\n",
       "#T_11692_row0_col0, #T_11692_row0_col2, #T_11692_row0_col4 {\n",
       "  text-align: center;\n",
       "  background-color: #08306b;\n",
       "  color: #f1f1f1;\n",
       "}\n",
       "#T_11692_row0_col1, #T_11692_row0_col3 {\n",
       "  text-align: center;\n",
       "  background-color: #00441b;\n",
       "  color: #f1f1f1;\n",
       "}\n",
       "#T_11692_row1_col0, #T_11692_row1_col2, #T_11692_row1_col4 {\n",
       "  text-align: center;\n",
       "  background-color: #f7fbff;\n",
       "  color: #000000;\n",
       "}\n",
       "#T_11692_row1_col1, #T_11692_row1_col3 {\n",
       "  text-align: center;\n",
       "  background-color: #f7fcf5;\n",
       "  color: #000000;\n",
       "}\n",
       "</style>\n",
       "<table id=\"T_11692\">\n",
       "  <caption>Percentile Summary</caption>\n",
       "  <thead>\n",
       "    <tr>\n",
       "      <th class=\"blank level0\" >&nbsp;</th>\n",
       "      <th id=\"T_11692_level0_col0\" class=\"col_heading level0 col0\" >25th Percentile</th>\n",
       "      <th id=\"T_11692_level0_col1\" class=\"col_heading level0 col1\" >50th Percentile (Median)</th>\n",
       "      <th id=\"T_11692_level0_col2\" class=\"col_heading level0 col2\" >75th Percentile</th>\n",
       "      <th id=\"T_11692_level0_col3\" class=\"col_heading level0 col3\" >90th Percentile</th>\n",
       "      <th id=\"T_11692_level0_col4\" class=\"col_heading level0 col4\" >95th Percentile</th>\n",
       "    </tr>\n",
       "  </thead>\n",
       "  <tbody>\n",
       "    <tr>\n",
       "      <th id=\"T_11692_level0_row0\" class=\"row_heading level0 row0\" >Revenue</th>\n",
       "      <td id=\"T_11692_row0_col0\" class=\"data row0 col0\" >234</td>\n",
       "      <td id=\"T_11692_row0_col1\" class=\"data row0 col1\" >414</td>\n",
       "      <td id=\"T_11692_row0_col2\" class=\"data row0 col2\" >689</td>\n",
       "      <td id=\"T_11692_row0_col3\" class=\"data row0 col3\" >958</td>\n",
       "      <td id=\"T_11692_row0_col4\" class=\"data row0 col4\" >1222</td>\n",
       "    </tr>\n",
       "    <tr>\n",
       "      <th id=\"T_11692_level0_row1\" class=\"row_heading level0 row1\" >Ride_Duration</th>\n",
       "      <td id=\"T_11692_row1_col0\" class=\"data row1 col0\" >23</td>\n",
       "      <td id=\"T_11692_row1_col1\" class=\"data row1 col1\" >30</td>\n",
       "      <td id=\"T_11692_row1_col2\" class=\"data row1 col2\" >38</td>\n",
       "      <td id=\"T_11692_row1_col3\" class=\"data row1 col3\" >42</td>\n",
       "      <td id=\"T_11692_row1_col4\" class=\"data row1 col4\" >44</td>\n",
       "    </tr>\n",
       "  </tbody>\n",
       "</table>\n"
      ],
      "text/plain": [
       "<pandas.io.formats.style.Styler at 0x2187932d1f0>"
      ]
     },
     "metadata": {},
     "output_type": "display_data"
    },
    {
     "data": {
      "image/png": "[encoded data removed]",
      "text/plain": [
       "<Figure size 800x400 with 1 Axes>"
      ]
     },
     "metadata": {},
     "output_type": "display_data"
    },
    {
     "data": {
      "image/png": "[encoded data removed]",
      "text/plain": [
       "<Figure size 800x500 with 1 Axes>"
      ]
     },
     "metadata": {},
     "output_type": "display_data"
    },
    {
     "data": {
      "image/png": "[encoded data removed]",
      "text/plain": [
       "<Figure size 800x400 with 1 Axes>"
      ]
     },
     "metadata": {},
     "output_type": "display_data"
    }
   ],
   "source": [
    "import seaborn as sns\n",
    "import matplotlib.pyplot as plt\n",
    "import numpy as np\n",
    "\n",
    "#Percentile summary with style\n",
    "percentile = pd.DataFrame({\n",
    "    '25th Percentile': df_analysis.quantile(0.25).round(0).astype(int),\n",
    "    '50th Percentile (Median)': df_analysis.quantile(0.50).round(0).astype(int),\n",
    "    '75th Percentile': df_analysis.quantile(0.75).round(0).astype(int),\n",
    "    '90th Percentile': df_analysis.quantile(0.90).round(0).astype(int),\n",
    "    '95th Percentile': df_analysis.quantile(0.95).round(0).astype(int)\n",
    "}).style\\\n",
    "    .set_properties(**{'text-align': 'center'})\\\n",
    "    .background_gradient(\n",
    "        subset=['25th Percentile', '75th Percentile', '95th Percentile'], cmap=\"Blues\")\\\n",
    "    .background_gradient(\n",
    "        subset=['50th Percentile (Median)', '90th Percentile'], cmap=\"Greens\")\\\n",
    "    .format({\n",
    "        'Revenue': '${:.2f}',\n",
    "        'Ride_Duration': '{:.2f} min'\n",
    "    })\\\n",
    "    .set_caption(\"Percentile Summary\")\\\n",
    "    .set_table_styles([\n",
    "        {'selector': 'caption', 'props': [\n",
    "            ('caption-side', 'top'),\n",
    "            ('font-size', '16px'),\n",
    "            ('font-weight', 'bold')]},\n",
    "        {'selector': 'th', 'props': [\n",
    "            ('background-color', '#f0f0f0'),\n",
    "            ('padding', '8px')]},\n",
    "        {'selector': 'td', 'props': [\n",
    "            ('padding', '8px'),\n",
    "            ('border', '1px solid #ddd')]},\n",
    "        {'selector': 'tr:hover', 'props': [\n",
    "            ('background-color', '#f5f5f5')]}\n",
    "    ])\n",
    "\n",
    "\n",
    "display(percentile)\n",
    "\n",
    "#revenue boxplot\n",
    "plt.figure(figsize=(8,4))\n",
    "sns.boxplot(x=df_analysis['Revenue'], color=\"blue\")\n",
    "plt.title(\"Revenue Distribution with Percentiles\")\n",
    "plt.show()\n",
    "\n",
    "#revenue histplot\n",
    "plt.figure(figsize=(8,5))\n",
    "sns.histplot(df_analysis['Revenue'], bins=50, kde=True, color=\"#2E86C1\")\n",
    "\n",
    "for p in [25, 50, 75, 90, 95]:\n",
    "    value = np.percentile(df_analysis['Revenue'], p)\n",
    "    plt.axvline(value, linestyle='--', label=f'{p}th: {value:.0f}')\n",
    "\n",
    "plt.legend()\n",
    "plt.title(\"Revenue Distribution with Percentiles\")\n",
    "plt.show()\n",
    "\n",
    "#Ride Duration boxplot\n",
    "plt.figure(figsize=(8,4))\n",
    "sns.boxplot(x=df_analysis['Ride_Duration'])\n",
    "plt.title(\"Ride Duration Distribution with Percentiles\")\n",
    "plt.show()\n"
   ]
  },
  {
   "cell_type": "markdown",
   "id": "1fd984ee",
   "metadata": {},
   "source": [
    "### Business Insight:"
   ]
  },
  {
   "cell_type": "markdown",
   "id": "3fe1b12a",
   "metadata": {},
   "source": [
    "**Percentile Analysis: Revenue Distribution**\n",
    "   - Revenue Distribution:\n",
    "     * 25th percentile: Lower quarter of trips generate less than 234 units\n",
    "     * 50th percentile (median): Half of trips earn below 414 units\n",
    "     * 75th percentile: Upper quarter of trips exceed 689 units\n",
    "     * 90th–95th percentiles: A small group of high-value trips generate revenues well above 958–1222 units, with outliers reaching into the thousands.\n",
    "\n",
    "**Percentile Analysis: Ride Duration Distribution**\n",
    "   - Ride Duration Distribution:\n",
    "     * 25th percentile: Lower quarter of trips generate less than 23\n",
    "     * 50th percentile (median): Half of trips earn below 30\n",
    "     * 75th percentile: Upper quarter of trips exceed 38\n",
    "     * 90th/95th percentiles show values close together 42 and 44\n",
    "\n"
   ]
  },
  {
   "cell_type": "markdown",
   "id": "e82744fd",
   "metadata": {},
   "source": [
    "### 1.2 Known Continuous Probability Distributions"
   ]
  },
  {
   "cell_type": "code",
   "execution_count": 8,
   "id": "97ab8057",
   "metadata": {},
   "outputs": [
    {
     "data": {
      "image/png": "[encoded data removed]",
      "text/plain": [
       "<Figure size 800x400 with 1 Axes>"
      ]
     },
     "metadata": {},
     "output_type": "display_data"
    },
    {
     "data": {
      "image/png": "[encoded data removed]",
      "text/plain": [
       "<Figure size 800x400 with 1 Axes>"
      ]
     },
     "metadata": {},
     "output_type": "display_data"
    }
   ],
   "source": [
    "import seaborn as sns\n",
    "import matplotlib.pyplot as plt\n",
    "\n",
    "# Revenue\n",
    "plt.figure(figsize=(8,4))\n",
    "sns.histplot(df_analysis['Revenue'], bins=50, kde=True, color=\"#2E86C1\")\n",
    "plt.title(\"Revenue Distribution\")\n",
    "plt.show()\n",
    "\n",
    "plt.figure(figsize=(8,4))\n",
    "sns.histplot(df_analysis['Ride_Duration'], bins=50, kde=True, color=\"green\")\n",
    "plt.title(\"Ride Duration Distribution\")\n",
    "plt.show()\n",
    "    "
   ]
  },
  {
   "cell_type": "code",
   "execution_count": 9,
   "id": "f3a43346",
   "metadata": {},
   "outputs": [
    {
     "data": {
      "text/plain": [
       "(ShapiroResult(statistic=0.9565726167614274, pvalue=3.2814153069430755e-36),\n",
       " ShapiroResult(statistic=0.8175231859892677, pvalue=7.200972692425216e-60))"
      ]
     },
     "execution_count": 9,
     "metadata": {},
     "output_type": "execute_result"
    }
   ],
   "source": [
    "#Normality Tests\n",
    "\n",
    "from scipy.stats import shapiro, kstest, norm\n",
    "\n",
    "#Shapiro cant handle large datases, so i sampled.\n",
    "duration_sample = df_analysis['Ride_Duration'].sample(5000, random_state=1)\n",
    "revenue_sample = df_analysis['Revenue'].sample(5000, random_state=1)\n",
    "\n",
    "shapiro_duration = shapiro(duration_sample)\n",
    "shapiro_revenue = shapiro(revenue_sample)\n",
    "\n",
    "shapiro_duration, shapiro_revenue"
   ]
  },
  {
   "cell_type": "markdown",
   "id": "81b62294",
   "metadata": {},
   "source": [
    "### Distribution Results"
   ]
  },
  {
   "cell_type": "markdown",
   "id": "50223935",
   "metadata": {},
   "source": [
    "- The Shapiro test yielded a p-value of < 0.001 for both, showing a strong evidence that neither are normally distributed.\n",
    "\n",
    "**Revenue** is strongly right-skewed: most trips generate low values, and a small number of values generate much higher revenues.\n",
    "\n",
    "**Ride Duration** follows a uniform distribution with trips being equally likely. This indicates that the trip durations are spread evenly. "
   ]
  },
  {
   "cell_type": "code",
   "execution_count": 10,
   "id": "b1ef3263",
   "metadata": {},
   "outputs": [
    {
     "data": {
      "text/plain": [
       "KstestResult(statistic=0.04249273012295918, pvalue=2.364500444409116e-146, statistic_location=352.0, statistic_sign=-1)"
      ]
     },
     "execution_count": 10,
     "metadata": {},
     "output_type": "execute_result"
    }
   ],
   "source": [
    "#Revenue Log-Normal Distribution Test\n",
    "from scipy.stats import lognorm, kstest\n",
    "import numpy as np\n",
    "\n",
    "shape, loc, scale = lognorm.fit(df_analysis['Revenue'], floc=0)\n",
    "\n",
    "ks_revenue = kstest(df_analysis['Revenue'], 'lognorm', args=(shape, loc, scale))\n",
    "ks_revenue"
   ]
  },
  {
   "cell_type": "markdown",
   "id": "a029b1e2",
   "metadata": {},
   "source": [
    "- Log-Normal resulted on a very small p value as shown above. We can confidently conclude that the dataset is not log-normally distributed."
   ]
  },
  {
   "cell_type": "code",
   "execution_count": 11,
   "id": "7a904895",
   "metadata": {},
   "outputs": [
    {
     "data": {
      "text/plain": [
       "KstestResult(statistic=0.004333333333333356, pvalue=0.060661714157751456, statistic_location=22.8, statistic_sign=-1)"
      ]
     },
     "execution_count": 11,
     "metadata": {},
     "output_type": "execute_result"
    }
   ],
   "source": [
    "# Ride Duration Uniform Test\n",
    "from scipy.stats import uniform\n",
    "\n",
    "a, b = df_analysis['Ride_Duration'].min(), df_analysis['Ride_Duration'].max()\n",
    "ks_duration = kstest(df_analysis['Ride_Duration'], 'uniform', args=(a, b-a))\n",
    "ks_duration"
   ]
  },
  {
   "cell_type": "markdown",
   "id": "2feefc27",
   "metadata": {},
   "source": [
    "- We performed the Kolmogorov-Smirnov test to assess the uniform distribution. The result was not significant at the alpha 0.05 level (p = 0.06), indicating that we cannot reject the null hypothesis. After visual inspection of the histogram, we can confirm that the data is largely consistent with a uniform distribution. "
   ]
  },
  {
   "cell_type": "markdown",
   "id": "a2a31497",
   "metadata": {},
   "source": [
    "### Business Insight:"
   ]
  },
  {
   "cell_type": "markdown",
   "id": "e1def434",
   "metadata": {},
   "source": [
    "The **Revenue** variable is strongly right-skewed, reflecting a heavy-tailed distribution with most values clustered at the lower end. It does not follow a normal or log-normal distribution. In contrast, **Ride Duration** follows a uniform distribution between 15 and 45 minutes, a finding supported by a Kolmogorov-Smirnov test and confirmed visually."
   ]
  },
  {
   "cell_type": "markdown",
   "id": "fa7ed667",
   "metadata": {},
   "source": [
    "# 2. Customer Experience & Ratings  \n",
    "- What is the **probability of a ride receiving a rating ≥ 4**?  \n",
    "\n",
    "We will use the column Driver Ratings. "
   ]
  },
  {
   "cell_type": "code",
   "execution_count": 12,
   "id": "3dcc0d0b",
   "metadata": {},
   "outputs": [
    {
     "name": "stdout",
     "output_type": "stream",
     "text": [
      "93000 rated trips\n"
     ]
    },
    {
     "data": {
      "text/plain": [
       "0.7739677419354839"
      ]
     },
     "execution_count": 12,
     "metadata": {},
     "output_type": "execute_result"
    }
   ],
   "source": [
    "# Filtering the valid ratings\n",
    "ratings = df['Driver Ratings'].dropna()\n",
    "\n",
    "# Total rides with ratings\n",
    "total_rated = len(ratings)\n",
    "print(total_rated, \"rated trips\")\n",
    "\n",
    "# Probability of rating >= 4\n",
    "prob_rating_4_or_above = (ratings >= 4).mean()\n",
    "prob_rating_4_or_above"
   ]
  },
  {
   "cell_type": "markdown",
   "id": "1c1cba6d",
   "metadata": {},
   "source": [
    "Among rides where customers provided a rating, 77% received a score of 4 or higher. This indicates that most completed trips are positively rated. "
   ]
  },
  {
   "cell_type": "markdown",
   "id": "1f31dc56",
   "metadata": {},
   "source": [
    "- How does this probability change **conditional on vehicle type** (e.g., SUV vs Sedan)?"
   ]
  },
  {
   "cell_type": "code",
   "execution_count": 13,
   "id": "e237b0ea",
   "metadata": {},
   "outputs": [
    {
     "data": {
      "text/plain": [
       "Vehicle Type\n",
       "Uber XL          0.780453\n",
       "Premier Sedan    0.777462\n",
       "Auto             0.775945\n",
       "Go Sedan         0.774406\n",
       "Bike             0.772339\n",
       "eBike            0.771027\n",
       "Go Mini          0.770284\n",
       "Name: Driver Ratings, dtype: float64"
      ]
     },
     "execution_count": 13,
     "metadata": {},
     "output_type": "execute_result"
    }
   ],
   "source": [
    "# Filtering rides with a valid rating\n",
    "\n",
    "df_ratings = df[['Driver Ratings', 'Vehicle Type']].dropna()\n",
    "\n",
    "# Prob of >= 4 grouped by vehicle type\n",
    "prob_by_vehicle = (\n",
    "    df_ratings.groupby('Vehicle Type')['Driver Ratings']\n",
    "    .apply(lambda x: (x >= 4).mean())\n",
    "    .sort_values(ascending=False)\n",
    ")\n",
    "\n",
    "prob_by_vehicle"
   ]
  },
  {
   "cell_type": "code",
   "execution_count": 14,
   "id": "74539b3d",
   "metadata": {},
   "outputs": [
    {
     "data": {
      "text/plain": [
       "<function matplotlib.pyplot.show(close=None, block=None)>"
      ]
     },
     "execution_count": 14,
     "metadata": {},
     "output_type": "execute_result"
    },
    {
     "data": {
      "image/png": "[encoded data removed]",
      "text/plain": [
       "<Figure size 800x500 with 1 Axes>"
      ]
     },
     "metadata": {},
     "output_type": "display_data"
    }
   ],
   "source": [
    "import seaborn as sns\n",
    "import matplotlib.pyplot as plt\n",
    "\n",
    "plt.figure(figsize=(8,5))\n",
    "sns.barplot(x=prob_by_vehicle.values, y=prob_by_vehicle.index, hue=prob_by_vehicle.index, palette=\"Blues_d\", legend=False)\n",
    "plt.xlabel(\"Probability of Rating >= 4\")\n",
    "plt.ylabel(\"Vehicle Type\")\n",
    "plt.title(\"Customer Rating >= 4 by Vehicle Type\")\n",
    "plt.xlim(0,1)\n",
    "plt.show\n",
    "\n"
   ]
  },
  {
   "cell_type": "markdown",
   "id": "de275064",
   "metadata": {},
   "source": [
    "As we can see on the barplot above, the vehicle type does not significantly affect the probability of receiving a rating ≥ 4."
   ]
  },
  {
   "cell_type": "markdown",
   "id": "29599b20",
   "metadata": {},
   "source": [
    "# 3. Operational Efficiency  \n",
    "- Model the **number of rides per day** as a discrete random variable.  \n",
    "- Estimate the **probability of exceeding certain ride count thresholds** on weekdays vs weekends.  "
   ]
  },
  {
   "cell_type": "code",
   "execution_count": 15,
   "id": "706b5a6f",
   "metadata": {},
   "outputs": [
    {
     "data": {
      "text/html": [
       "<div>\n",
       "<style scoped>\n",
       "    .dataframe tbody tr th:only-of-type {\n",
       "        vertical-align: middle;\n",
       "    }\n",
       "\n",
       "    .dataframe tbody tr th {\n",
       "        vertical-align: top;\n",
       "    }\n",
       "\n",
       "    .dataframe thead th {\n",
       "        text-align: right;\n",
       "    }\n",
       "</style>\n",
       "<table border=\"1\" class=\"dataframe\">\n",
       "  <thead>\n",
       "    <tr style=\"text-align: right;\">\n",
       "      <th></th>\n",
       "      <th>Date</th>\n",
       "      <th>Ride_Count</th>\n",
       "    </tr>\n",
       "  </thead>\n",
       "  <tbody>\n",
       "    <tr>\n",
       "      <th>0</th>\n",
       "      <td>2024-01-01</td>\n",
       "      <td>414</td>\n",
       "    </tr>\n",
       "    <tr>\n",
       "      <th>1</th>\n",
       "      <td>2024-01-02</td>\n",
       "      <td>389</td>\n",
       "    </tr>\n",
       "    <tr>\n",
       "      <th>2</th>\n",
       "      <td>2024-01-03</td>\n",
       "      <td>384</td>\n",
       "    </tr>\n",
       "    <tr>\n",
       "      <th>3</th>\n",
       "      <td>2024-01-04</td>\n",
       "      <td>414</td>\n",
       "    </tr>\n",
       "    <tr>\n",
       "      <th>4</th>\n",
       "      <td>2024-01-05</td>\n",
       "      <td>416</td>\n",
       "    </tr>\n",
       "  </tbody>\n",
       "</table>\n",
       "</div>"
      ],
      "text/plain": [
       "        Date  Ride_Count\n",
       "0 2024-01-01         414\n",
       "1 2024-01-02         389\n",
       "2 2024-01-03         384\n",
       "3 2024-01-04         414\n",
       "4 2024-01-05         416"
      ]
     },
     "execution_count": 15,
     "metadata": {},
     "output_type": "execute_result"
    }
   ],
   "source": [
    "# Converting to datetime\n",
    "df['Date'] = pd.to_datetime(df['Date'])\n",
    "\n",
    "# Counting rides per day\n",
    "rides_per_day = df.groupby(df['Date']).size().reset_index()\n",
    "\n",
    "# Renaming columns\n",
    "rides_per_day.columns = ['Date', 'Ride_Count']\n",
    "\n",
    "rides_per_day.head()"
   ]
  },
  {
   "cell_type": "markdown",
   "id": "0f7ec481",
   "metadata": {},
   "source": [
    "As shown above, rides_per_day is the discrete random variable. "
   ]
  },
  {
   "cell_type": "code",
   "execution_count": 16,
   "id": "de81df75",
   "metadata": {},
   "outputs": [
    {
     "data": {
      "text/html": [
       "<div>\n",
       "<style scoped>\n",
       "    .dataframe tbody tr th:only-of-type {\n",
       "        vertical-align: middle;\n",
       "    }\n",
       "\n",
       "    .dataframe tbody tr th {\n",
       "        vertical-align: top;\n",
       "    }\n",
       "\n",
       "    .dataframe thead th {\n",
       "        text-align: right;\n",
       "    }\n",
       "</style>\n",
       "<table border=\"1\" class=\"dataframe\">\n",
       "  <thead>\n",
       "    <tr style=\"text-align: right;\">\n",
       "      <th></th>\n",
       "      <th>Date</th>\n",
       "      <th>Ride_Count</th>\n",
       "      <th>DayOfWeek</th>\n",
       "      <th>Weekend</th>\n",
       "    </tr>\n",
       "  </thead>\n",
       "  <tbody>\n",
       "    <tr>\n",
       "      <th>0</th>\n",
       "      <td>2024-01-01</td>\n",
       "      <td>414</td>\n",
       "      <td>Monday</td>\n",
       "      <td>False</td>\n",
       "    </tr>\n",
       "    <tr>\n",
       "      <th>1</th>\n",
       "      <td>2024-01-02</td>\n",
       "      <td>389</td>\n",
       "      <td>Tuesday</td>\n",
       "      <td>False</td>\n",
       "    </tr>\n",
       "    <tr>\n",
       "      <th>2</th>\n",
       "      <td>2024-01-03</td>\n",
       "      <td>384</td>\n",
       "      <td>Wednesday</td>\n",
       "      <td>False</td>\n",
       "    </tr>\n",
       "    <tr>\n",
       "      <th>3</th>\n",
       "      <td>2024-01-04</td>\n",
       "      <td>414</td>\n",
       "      <td>Thursday</td>\n",
       "      <td>False</td>\n",
       "    </tr>\n",
       "    <tr>\n",
       "      <th>4</th>\n",
       "      <td>2024-01-05</td>\n",
       "      <td>416</td>\n",
       "      <td>Friday</td>\n",
       "      <td>False</td>\n",
       "    </tr>\n",
       "  </tbody>\n",
       "</table>\n",
       "</div>"
      ],
      "text/plain": [
       "        Date  Ride_Count  DayOfWeek  Weekend\n",
       "0 2024-01-01         414     Monday    False\n",
       "1 2024-01-02         389    Tuesday    False\n",
       "2 2024-01-03         384  Wednesday    False\n",
       "3 2024-01-04         414   Thursday    False\n",
       "4 2024-01-05         416     Friday    False"
      ]
     },
     "execution_count": 16,
     "metadata": {},
     "output_type": "execute_result"
    }
   ],
   "source": [
    "# Creating a weekday/weekend indicator\n",
    "rides_per_day['DayOfWeek'] = rides_per_day['Date'].dt.day_name()\n",
    "rides_per_day['Weekend'] = rides_per_day['DayOfWeek'].isin(['Saturday','Sunday'])\n",
    "\n",
    "rides_per_day.head()\n",
    "\n"
   ]
  },
  {
   "cell_type": "markdown",
   "id": "f754adb0",
   "metadata": {},
   "source": [
    "As shown above, I edited the table to display the ride count, the day of the week, and a boolean indicator to return true or false if the day is a weekend."
   ]
  },
  {
   "cell_type": "code",
   "execution_count": 17,
   "id": "ea72bee7",
   "metadata": {},
   "outputs": [
    {
     "data": {
      "image/png": "[encoded data removed]",
      "text/plain": [
       "<Figure size 800x500 with 1 Axes>"
      ]
     },
     "metadata": {},
     "output_type": "display_data"
    }
   ],
   "source": [
    "import seaborn as sns\n",
    "import matplotlib.pyplot as plt\n",
    "\n",
    "#Daily Ride Counts histogram\n",
    "plt.figure(figsize=(8,5))\n",
    "sns.histplot(rides_per_day['Ride_Count'], bins=30, kde=False, color=\"skyblue\")\n",
    "plt.title(\"Distribution of Daily Ride Counts\")\n",
    "plt.xlabel(\"Number of Rides per Day\")\n",
    "plt.ylabel(\"Frequency\")\n",
    "plt.show()"
   ]
  },
  {
   "cell_type": "markdown",
   "id": "a03fac23",
   "metadata": {},
   "source": [
    "The histogram above shows the frequency of daily ride counts. As we can see, it resembles a bell-shaped distribution centered around the mean, with most values concentrated near the middle and fewer values at the extremes. "
   ]
  },
  {
   "cell_type": "code",
   "execution_count": 18,
   "id": "74103e0d",
   "metadata": {},
   "outputs": [
    {
     "data": {
      "text/plain": [
       "(0.022988505747126436, 0.028846153846153848)"
      ]
     },
     "execution_count": 18,
     "metadata": {},
     "output_type": "execute_result"
    }
   ],
   "source": [
    "# Estimating Probability of Exceeding Thresholds\n",
    "threshold = 450\n",
    "\n",
    "# Weekday \n",
    "weekday_prob = (rides_per_day.loc[rides_per_day['Weekend'] == False, 'Ride_Count'] > threshold).mean()\n",
    "\n",
    "#Weekend\n",
    "weekend_prob = (rides_per_day.loc[rides_per_day['Weekend'] == True, 'Ride_Count'] > threshold).mean()\n",
    "\n",
    "weekday_prob, weekend_prob\n"
   ]
  },
  {
   "cell_type": "markdown",
   "id": "d2f32e29",
   "metadata": {},
   "source": [
    "We modeled the number of rides as a discrete random variable and calculated the empirical probability of exceeding specific thresholds directly from the data."
   ]
  },
  {
   "cell_type": "markdown",
   "id": "01351a86",
   "metadata": {},
   "source": [
    "# 4. Joint Behaviors  \n",
    "- Explore **joint distribution** of `(time of day, ride distance)` and `(vehicle type, revenue)`.  \n",
    "- Compute **marginal and conditional probabilities** for key categories. "
   ]
  },
  {
   "cell_type": "markdown",
   "id": "5f9cf42b",
   "metadata": {},
   "source": [
    "### Time of Day and Distance"
   ]
  },
  {
   "cell_type": "code",
   "execution_count": 19,
   "id": "99cfad57",
   "metadata": {},
   "outputs": [],
   "source": [
    "# Changing time to datetime with pre defined format\n",
    "df['Time'] = pd.to_datetime(df['Time'], format=\"%H:%M:%S\").dt.time"
   ]
  },
  {
   "cell_type": "code",
   "execution_count": 20,
   "id": "8ed31356",
   "metadata": {},
   "outputs": [
    {
     "data": {
      "text/plain": [
       "0   2024-03-23 12:29:38\n",
       "1   2024-11-29 18:01:39\n",
       "2   2024-08-23 08:56:10\n",
       "3   2024-10-21 17:17:25\n",
       "4   2024-09-16 22:08:00\n",
       "Name: Datetime, dtype: datetime64[ns]"
      ]
     },
     "metadata": {},
     "output_type": "display_data"
    },
    {
     "data": {
      "text/plain": [
       "0    Afternoon\n",
       "1      Evening\n",
       "2      Morning\n",
       "3      Evening\n",
       "4        Night\n",
       "Name: TimeOfDay, dtype: object"
      ]
     },
     "metadata": {},
     "output_type": "display_data"
    }
   ],
   "source": [
    "\n",
    "# Joining date and time to a single column\n",
    "df['Datetime'] = df.apply(lambda r: pd.Timestamp.combine(r['Date'], r['Time']),\n",
    "                        axis=1)\n",
    "\n",
    "display(df['Datetime'].head())\n",
    "\n",
    "# Extracting hour\n",
    "df['Hour'] = df['Datetime'].dt.hour\n",
    "\n",
    "def time_of_day(hour):\n",
    "    if 5 <= hour < 12:\n",
    "        return 'Morning'\n",
    "    elif 12 <= hour < 17:\n",
    "        return 'Afternoon'\n",
    "    elif 17 <= hour < 21:\n",
    "        return 'Evening'\n",
    "    else:\n",
    "        return 'Night'\n",
    "    \n",
    "\n",
    "df['TimeOfDay'] = df['Hour'].apply(time_of_day)\n",
    "\n",
    "display(df['TimeOfDay'].head())\n"
   ]
  },
  {
   "cell_type": "markdown",
   "id": "385b57da",
   "metadata": {},
   "source": [
    "The code above separates date and time columns into a single Datetime column. Then extracts the hour of each ride, and categorizes into the following segments:\n",
    "- Morning (05:00–11:59)\n",
    "- Afternoon (12:00–16:59)\n",
    "- Evening (17:00–20:59)\n",
    "- Night (21:00–04:59)\n",
    "\n",
    "This produces two new features:\n",
    "- Numeric hour of ride (Hour)\n",
    "- categorical label (TimeOfDay)"
   ]
  },
  {
   "cell_type": "code",
   "execution_count": 21,
   "id": "c1a5502c",
   "metadata": {},
   "outputs": [
    {
     "data": {
      "text/plain": [
       "0         NaN\n",
       "1     5-10 km\n",
       "2    10-20 km\n",
       "3      20+ km\n",
       "4      20+ km\n",
       "Name: Distance_Category, dtype: category\n",
       "Categories (4, object): ['0-5 km' < '5-10 km' < '10-20 km' < '20+ km']"
      ]
     },
     "execution_count": 21,
     "metadata": {},
     "output_type": "execute_result"
    }
   ],
   "source": [
    "# Creating categories to calc prob more easily\n",
    "df['Distance_Category'] = pd.cut(\n",
    "    df['Ride Distance'],\n",
    "    bins=[0, 5, 10, 20, 50],\n",
    "    labels=['0-5 km', '5-10 km', '10-20 km', '20+ km']\n",
    ")\n",
    "\n",
    "df['Distance_Category'].head()"
   ]
  },
  {
   "cell_type": "markdown",
   "id": "d09b59db",
   "metadata": {},
   "source": [
    "This part of the code will separate the ride distances into 4 categoties:\n",
    "- 0-5 km\n",
    "- 5-10 km\n",
    "- 10-20 km\n",
    "- 20+ km"
   ]
  },
  {
   "cell_type": "code",
   "execution_count": 22,
   "id": "8df47af7",
   "metadata": {},
   "outputs": [
    {
     "data": {
      "text/html": [
       "<div>\n",
       "<style scoped>\n",
       "    .dataframe tbody tr th:only-of-type {\n",
       "        vertical-align: middle;\n",
       "    }\n",
       "\n",
       "    .dataframe tbody tr th {\n",
       "        vertical-align: top;\n",
       "    }\n",
       "\n",
       "    .dataframe thead th {\n",
       "        text-align: right;\n",
       "    }\n",
       "</style>\n",
       "<table border=\"1\" class=\"dataframe\">\n",
       "  <thead>\n",
       "    <tr style=\"text-align: right;\">\n",
       "      <th>Distance_Category</th>\n",
       "      <th>0-5 km</th>\n",
       "      <th>5-10 km</th>\n",
       "      <th>10-20 km</th>\n",
       "      <th>20+ km</th>\n",
       "    </tr>\n",
       "    <tr>\n",
       "      <th>TimeOfDay</th>\n",
       "      <th></th>\n",
       "      <th></th>\n",
       "      <th></th>\n",
       "      <th></th>\n",
       "    </tr>\n",
       "  </thead>\n",
       "  <tbody>\n",
       "    <tr>\n",
       "      <th>Afternoon</th>\n",
       "      <td>0.018314</td>\n",
       "      <td>0.029598</td>\n",
       "      <td>0.059373</td>\n",
       "      <td>0.140902</td>\n",
       "    </tr>\n",
       "    <tr>\n",
       "      <th>Evening</th>\n",
       "      <td>0.021971</td>\n",
       "      <td>0.034245</td>\n",
       "      <td>0.069314</td>\n",
       "      <td>0.168147</td>\n",
       "    </tr>\n",
       "    <tr>\n",
       "      <th>Morning</th>\n",
       "      <td>0.023314</td>\n",
       "      <td>0.036765</td>\n",
       "      <td>0.070500</td>\n",
       "      <td>0.173069</td>\n",
       "    </tr>\n",
       "    <tr>\n",
       "      <th>Night</th>\n",
       "      <td>0.010941</td>\n",
       "      <td>0.018637</td>\n",
       "      <td>0.035892</td>\n",
       "      <td>0.089020</td>\n",
       "    </tr>\n",
       "  </tbody>\n",
       "</table>\n",
       "</div>"
      ],
      "text/plain": [
       "Distance_Category    0-5 km   5-10 km  10-20 km    20+ km\n",
       "TimeOfDay                                                \n",
       "Afternoon          0.018314  0.029598  0.059373  0.140902\n",
       "Evening            0.021971  0.034245  0.069314  0.168147\n",
       "Morning            0.023314  0.036765  0.070500  0.173069\n",
       "Night              0.010941  0.018637  0.035892  0.089020"
      ]
     },
     "metadata": {},
     "output_type": "display_data"
    }
   ],
   "source": [
    "# Joint Prob Distribution \n",
    "joint_time_distance = pd.crosstab(df['TimeOfDay'], df['Distance_Category'], normalize='all')\n",
    "display(joint_time_distance)\n"
   ]
  },
  {
   "cell_type": "markdown",
   "id": "ae46bfe3",
   "metadata": {},
   "source": [
    "The code above calculates the joint probability distribution of the **TimeOfDay** variable and the **Distance_Category** variable. The result represents the probability of a ride occurring under each combination of these two variables."
   ]
  },
  {
   "cell_type": "code",
   "execution_count": 23,
   "id": "2fac9976",
   "metadata": {},
   "outputs": [
    {
     "data": {
      "text/plain": [
       "Distance_Category\n",
       "0-5 km      0.074539\n",
       "5-10 km     0.119245\n",
       "10-20 km    0.235078\n",
       "20+ km      0.571137\n",
       "dtype: float64"
      ]
     },
     "metadata": {},
     "output_type": "display_data"
    },
    {
     "data": {
      "text/plain": [
       "TimeOfDay\n",
       "Afternoon    0.248186\n",
       "Evening      0.293676\n",
       "Morning      0.303647\n",
       "Night        0.154490\n",
       "dtype: float64"
      ]
     },
     "metadata": {},
     "output_type": "display_data"
    }
   ],
   "source": [
    "# Marginal prob of one variable regardless of the other\n",
    "marginal_time = joint_time_distance.sum(axis=1)\n",
    "marginal_distance = joint_time_distance.sum(axis=0)\n",
    "display(marginal_distance)\n",
    "display(marginal_time)"
   ]
  },
  {
   "cell_type": "markdown",
   "id": "b6bd9db9",
   "metadata": {},
   "source": [
    "The code above calculates the marginal probability of each variable by summing over the other. It shows the probability of **TimeOfDay** and **Distance_Category** independently, regardless of the other variable."
   ]
  },
  {
   "cell_type": "code",
   "execution_count": 24,
   "id": "c32985dd",
   "metadata": {},
   "outputs": [
    {
     "data": {
      "text/html": [
       "<div>\n",
       "<style scoped>\n",
       "    .dataframe tbody tr th:only-of-type {\n",
       "        vertical-align: middle;\n",
       "    }\n",
       "\n",
       "    .dataframe tbody tr th {\n",
       "        vertical-align: top;\n",
       "    }\n",
       "\n",
       "    .dataframe thead th {\n",
       "        text-align: right;\n",
       "    }\n",
       "</style>\n",
       "<table border=\"1\" class=\"dataframe\">\n",
       "  <thead>\n",
       "    <tr style=\"text-align: right;\">\n",
       "      <th>Distance_Category</th>\n",
       "      <th>0-5 km</th>\n",
       "      <th>5-10 km</th>\n",
       "      <th>10-20 km</th>\n",
       "      <th>20+ km</th>\n",
       "    </tr>\n",
       "    <tr>\n",
       "      <th>TimeOfDay</th>\n",
       "      <th></th>\n",
       "      <th></th>\n",
       "      <th></th>\n",
       "      <th></th>\n",
       "    </tr>\n",
       "  </thead>\n",
       "  <tbody>\n",
       "    <tr>\n",
       "      <th>Afternoon</th>\n",
       "      <td>0.073790</td>\n",
       "      <td>0.119257</td>\n",
       "      <td>0.239226</td>\n",
       "      <td>0.567727</td>\n",
       "    </tr>\n",
       "    <tr>\n",
       "      <th>Evening</th>\n",
       "      <td>0.074812</td>\n",
       "      <td>0.116608</td>\n",
       "      <td>0.236021</td>\n",
       "      <td>0.572559</td>\n",
       "    </tr>\n",
       "    <tr>\n",
       "      <th>Morning</th>\n",
       "      <td>0.076779</td>\n",
       "      <td>0.121077</td>\n",
       "      <td>0.232177</td>\n",
       "      <td>0.569966</td>\n",
       "    </tr>\n",
       "    <tr>\n",
       "      <th>Night</th>\n",
       "      <td>0.070821</td>\n",
       "      <td>0.120637</td>\n",
       "      <td>0.232326</td>\n",
       "      <td>0.576215</td>\n",
       "    </tr>\n",
       "  </tbody>\n",
       "</table>\n",
       "</div>"
      ],
      "text/plain": [
       "Distance_Category    0-5 km   5-10 km  10-20 km    20+ km\n",
       "TimeOfDay                                                \n",
       "Afternoon          0.073790  0.119257  0.239226  0.567727\n",
       "Evening            0.074812  0.116608  0.236021  0.572559\n",
       "Morning            0.076779  0.121077  0.232177  0.569966\n",
       "Night              0.070821  0.120637  0.232326  0.576215"
      ]
     },
     "execution_count": 24,
     "metadata": {},
     "output_type": "execute_result"
    }
   ],
   "source": [
    "# Prob of Distance Given Time of Day\n",
    "cond_dist_given_time = pd.crosstab(df['TimeOfDay'], df['Distance_Category'], normalize='index')\n",
    "cond_dist_given_time"
   ]
  },
  {
   "cell_type": "markdown",
   "id": "20cdf2e3",
   "metadata": {},
   "source": [
    "The code above computes the conditional probability distribution of **Distance_Category** given the **TimeOfDay**. For example, it shows that the probability of a ride being 0-5 km long, given that it occurs in the morning, is 7%."
   ]
  },
  {
   "cell_type": "markdown",
   "id": "d437d755",
   "metadata": {},
   "source": [
    "### Vehicle type and Revenue"
   ]
  },
  {
   "cell_type": "code",
   "execution_count": null,
   "id": "350f154b",
   "metadata": {},
   "outputs": [
    {
     "data": {
      "text/plain": [
       "0         NaN\n",
       "1     200-500\n",
       "2    500-1000\n",
       "3     200-500\n",
       "4    500-1000\n",
       "Name: Revenue_Category, dtype: category\n",
       "Categories (5, object): ['0-200' < '200-500' < '500-1000' < '1000-2000' < '2000+']"
      ]
     },
     "execution_count": 25,
     "metadata": {},
     "output_type": "execute_result"
    }
   ],
   "source": [
    "# Creating categories to calc prob more easily\n",
    "df['Revenue_Category'] = pd.cut(\n",
    "    df['Booking Value'],\n",
    "    bins=[0, 200, 500, 1000, 2000, 5000],\n",
    "    labels=['0-200', '200-500', '500-1000', '1000-2000', '2000+']\n",
    ")\n",
    "df['Revenue_Category'].head()\n"
   ]
  },
  {
   "cell_type": "markdown",
   "id": "200d82b8",
   "metadata": {},
   "source": [
    "The code above categorizes each ride's **Booking Value** into predefined ranges:\n",
    "- 0-200\n",
    "- 200-500\n",
    "- 500-1000\n",
    "- 1000-2000\n",
    "- 2000+"
   ]
  },
  {
   "cell_type": "markdown",
   "id": "02a179d7",
   "metadata": {},
   "source": [
    "### Joint Probability Distribution"
   ]
  },
  {
   "cell_type": "code",
   "execution_count": 26,
   "id": "8983ca31",
   "metadata": {},
   "outputs": [
    {
     "data": {
      "text/html": [
       "<div>\n",
       "<style scoped>\n",
       "    .dataframe tbody tr th:only-of-type {\n",
       "        vertical-align: middle;\n",
       "    }\n",
       "\n",
       "    .dataframe tbody tr th {\n",
       "        vertical-align: top;\n",
       "    }\n",
       "\n",
       "    .dataframe thead th {\n",
       "        text-align: right;\n",
       "    }\n",
       "</style>\n",
       "<table border=\"1\" class=\"dataframe\">\n",
       "  <thead>\n",
       "    <tr style=\"text-align: right;\">\n",
       "      <th>Revenue_Category</th>\n",
       "      <th>0-200</th>\n",
       "      <th>200-500</th>\n",
       "      <th>500-1000</th>\n",
       "      <th>1000-2000</th>\n",
       "      <th>2000+</th>\n",
       "    </tr>\n",
       "    <tr>\n",
       "      <th>Vehicle Type</th>\n",
       "      <th></th>\n",
       "      <th></th>\n",
       "      <th></th>\n",
       "      <th></th>\n",
       "      <th></th>\n",
       "    </tr>\n",
       "  </thead>\n",
       "  <tbody>\n",
       "    <tr>\n",
       "      <th>Auto</th>\n",
       "      <td>0.050275</td>\n",
       "      <td>0.103255</td>\n",
       "      <td>0.076059</td>\n",
       "      <td>0.017333</td>\n",
       "      <td>0.002245</td>\n",
       "    </tr>\n",
       "    <tr>\n",
       "      <th>Bike</th>\n",
       "      <td>0.030755</td>\n",
       "      <td>0.062402</td>\n",
       "      <td>0.045471</td>\n",
       "      <td>0.010402</td>\n",
       "      <td>0.001578</td>\n",
       "    </tr>\n",
       "    <tr>\n",
       "      <th>Go Mini</th>\n",
       "      <td>0.041118</td>\n",
       "      <td>0.081892</td>\n",
       "      <td>0.060971</td>\n",
       "      <td>0.013833</td>\n",
       "      <td>0.001833</td>\n",
       "    </tr>\n",
       "    <tr>\n",
       "      <th>Go Sedan</th>\n",
       "      <td>0.035951</td>\n",
       "      <td>0.074441</td>\n",
       "      <td>0.054578</td>\n",
       "      <td>0.012931</td>\n",
       "      <td>0.001686</td>\n",
       "    </tr>\n",
       "    <tr>\n",
       "      <th>Premier Sedan</th>\n",
       "      <td>0.024363</td>\n",
       "      <td>0.050000</td>\n",
       "      <td>0.037206</td>\n",
       "      <td>0.008059</td>\n",
       "      <td>0.001108</td>\n",
       "    </tr>\n",
       "    <tr>\n",
       "      <th>Uber XL</th>\n",
       "      <td>0.005922</td>\n",
       "      <td>0.012922</td>\n",
       "      <td>0.008794</td>\n",
       "      <td>0.001892</td>\n",
       "      <td>0.000324</td>\n",
       "    </tr>\n",
       "    <tr>\n",
       "      <th>eBike</th>\n",
       "      <td>0.014794</td>\n",
       "      <td>0.029206</td>\n",
       "      <td>0.020990</td>\n",
       "      <td>0.004647</td>\n",
       "      <td>0.000765</td>\n",
       "    </tr>\n",
       "  </tbody>\n",
       "</table>\n",
       "</div>"
      ],
      "text/plain": [
       "Revenue_Category     0-200   200-500  500-1000  1000-2000     2000+\n",
       "Vehicle Type                                                       \n",
       "Auto              0.050275  0.103255  0.076059   0.017333  0.002245\n",
       "Bike              0.030755  0.062402  0.045471   0.010402  0.001578\n",
       "Go Mini           0.041118  0.081892  0.060971   0.013833  0.001833\n",
       "Go Sedan          0.035951  0.074441  0.054578   0.012931  0.001686\n",
       "Premier Sedan     0.024363  0.050000  0.037206   0.008059  0.001108\n",
       "Uber XL           0.005922  0.012922  0.008794   0.001892  0.000324\n",
       "eBike             0.014794  0.029206  0.020990   0.004647  0.000765"
      ]
     },
     "execution_count": 26,
     "metadata": {},
     "output_type": "execute_result"
    }
   ],
   "source": [
    "# Joint Probability Distribution\n",
    "joint_vehicle_revenue = pd.crosstab(df['Vehicle Type'], df['Revenue_Category'], normalize='all')\n",
    "joint_vehicle_revenue"
   ]
  },
  {
   "cell_type": "markdown",
   "id": "8da4caa8",
   "metadata": {},
   "source": [
    "The code above calculates the joint probability distribution of the **Vehicle Type** variable and the **Revenue_Category** variable. The result represents the probability of a ride occurring under each combination of these two variables."
   ]
  },
  {
   "cell_type": "markdown",
   "id": "51472c79",
   "metadata": {},
   "source": [
    "### Marginal Probability Distribution"
   ]
  },
  {
   "cell_type": "code",
   "execution_count": 30,
   "id": "8342d615",
   "metadata": {},
   "outputs": [
    {
     "data": {
      "text/plain": [
       "(Vehicle Type\n",
       " Auto             0.249167\n",
       " Bike             0.150608\n",
       " Go Mini          0.199647\n",
       " Go Sedan         0.179588\n",
       " Premier Sedan    0.120735\n",
       " Uber XL          0.029853\n",
       " eBike            0.070402\n",
       " dtype: float64,\n",
       " Revenue_Category\n",
       " 0-200        0.203176\n",
       " 200-500      0.414118\n",
       " 500-1000     0.304069\n",
       " 1000-2000    0.069098\n",
       " 2000+        0.009539\n",
       " dtype: float64)"
      ]
     },
     "execution_count": 30,
     "metadata": {},
     "output_type": "execute_result"
    }
   ],
   "source": [
    "marginal_vehicle = joint_vehicle_revenue.sum(axis=1)\n",
    "marginal_revenue = joint_vehicle_revenue.sum(axis=0)\n",
    "\n",
    "marginal_vehicle, marginal_revenue"
   ]
  },
  {
   "cell_type": "markdown",
   "id": "060b26b7",
   "metadata": {},
   "source": [
    "The code above calculates the marginal probability of each variable by summing over the other. It shows the probability of **Vehicle Type** and **Revenue_Category** independently, regardless of the other variable."
   ]
  },
  {
   "cell_type": "markdown",
   "id": "5bf770ff",
   "metadata": {},
   "source": [
    "### Conditional Probability Distribution"
   ]
  },
  {
   "cell_type": "code",
   "execution_count": 31,
   "id": "3a8841c1",
   "metadata": {},
   "outputs": [
    {
     "data": {
      "text/html": [
       "<div>\n",
       "<style scoped>\n",
       "    .dataframe tbody tr th:only-of-type {\n",
       "        vertical-align: middle;\n",
       "    }\n",
       "\n",
       "    .dataframe tbody tr th {\n",
       "        vertical-align: top;\n",
       "    }\n",
       "\n",
       "    .dataframe thead th {\n",
       "        text-align: right;\n",
       "    }\n",
       "</style>\n",
       "<table border=\"1\" class=\"dataframe\">\n",
       "  <thead>\n",
       "    <tr style=\"text-align: right;\">\n",
       "      <th>Revenue_Category</th>\n",
       "      <th>0-200</th>\n",
       "      <th>200-500</th>\n",
       "      <th>500-1000</th>\n",
       "      <th>1000-2000</th>\n",
       "      <th>2000+</th>\n",
       "    </tr>\n",
       "    <tr>\n",
       "      <th>Vehicle Type</th>\n",
       "      <th></th>\n",
       "      <th></th>\n",
       "      <th></th>\n",
       "      <th></th>\n",
       "      <th></th>\n",
       "    </tr>\n",
       "  </thead>\n",
       "  <tbody>\n",
       "    <tr>\n",
       "      <th>Auto</th>\n",
       "      <td>0.201771</td>\n",
       "      <td>0.414401</td>\n",
       "      <td>0.305253</td>\n",
       "      <td>0.069565</td>\n",
       "      <td>0.009010</td>\n",
       "    </tr>\n",
       "    <tr>\n",
       "      <th>Bike</th>\n",
       "      <td>0.204205</td>\n",
       "      <td>0.414334</td>\n",
       "      <td>0.301914</td>\n",
       "      <td>0.069067</td>\n",
       "      <td>0.010480</td>\n",
       "    </tr>\n",
       "    <tr>\n",
       "      <th>Go Mini</th>\n",
       "      <td>0.205952</td>\n",
       "      <td>0.410185</td>\n",
       "      <td>0.305392</td>\n",
       "      <td>0.069289</td>\n",
       "      <td>0.009183</td>\n",
       "    </tr>\n",
       "    <tr>\n",
       "      <th>Go Sedan</th>\n",
       "      <td>0.200186</td>\n",
       "      <td>0.414510</td>\n",
       "      <td>0.303909</td>\n",
       "      <td>0.072006</td>\n",
       "      <td>0.009390</td>\n",
       "    </tr>\n",
       "    <tr>\n",
       "      <th>Premier Sedan</th>\n",
       "      <td>0.201786</td>\n",
       "      <td>0.414129</td>\n",
       "      <td>0.308161</td>\n",
       "      <td>0.066748</td>\n",
       "      <td>0.009176</td>\n",
       "    </tr>\n",
       "    <tr>\n",
       "      <th>Uber XL</th>\n",
       "      <td>0.198358</td>\n",
       "      <td>0.432841</td>\n",
       "      <td>0.294581</td>\n",
       "      <td>0.063383</td>\n",
       "      <td>0.010837</td>\n",
       "    </tr>\n",
       "    <tr>\n",
       "      <th>eBike</th>\n",
       "      <td>0.210138</td>\n",
       "      <td>0.414845</td>\n",
       "      <td>0.298148</td>\n",
       "      <td>0.066008</td>\n",
       "      <td>0.010862</td>\n",
       "    </tr>\n",
       "  </tbody>\n",
       "</table>\n",
       "</div>"
      ],
      "text/plain": [
       "Revenue_Category     0-200   200-500  500-1000  1000-2000     2000+\n",
       "Vehicle Type                                                       \n",
       "Auto              0.201771  0.414401  0.305253   0.069565  0.009010\n",
       "Bike              0.204205  0.414334  0.301914   0.069067  0.010480\n",
       "Go Mini           0.205952  0.410185  0.305392   0.069289  0.009183\n",
       "Go Sedan          0.200186  0.414510  0.303909   0.072006  0.009390\n",
       "Premier Sedan     0.201786  0.414129  0.308161   0.066748  0.009176\n",
       "Uber XL           0.198358  0.432841  0.294581   0.063383  0.010837\n",
       "eBike             0.210138  0.414845  0.298148   0.066008  0.010862"
      ]
     },
     "execution_count": 31,
     "metadata": {},
     "output_type": "execute_result"
    }
   ],
   "source": [
    "cond_dist_given_vehicle = pd.crosstab(df['Vehicle Type'], df['Revenue_Category'], normalize='index')\n",
    "cond_dist_given_vehicle"
   ]
  },
  {
   "cell_type": "markdown",
   "id": "d0dff5b2",
   "metadata": {},
   "source": [
    "The code above computes the conditional probability distribution of **Revenue_Category** given the **Vehicle Type**. For example, it shows that if the vehicle type is Auto, the probability of the ride generating 0-200 in revenue is 20%."
   ]
  },
  {
   "cell_type": "markdown",
   "id": "f70055a6",
   "metadata": {},
   "source": []
  }
 ],
 "metadata": {
  "kernelspec": {
   "display_name": "base",
   "language": "python",
   "name": "python3"
  },
  "language_info": {
   "codemirror_mode": {
    "name": "ipython",
    "version": 3
   },
   "file_extension": ".py",
   "mimetype": "text/x-python",
   "name": "python",
   "nbconvert_exporter": "python",
   "pygments_lexer": "ipython3",
   "version": "3.12.4"
  }
 },
 "nbformat": 4,
 "nbformat_minor": 5
}
