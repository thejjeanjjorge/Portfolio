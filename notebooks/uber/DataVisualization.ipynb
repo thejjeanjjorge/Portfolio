{
 "cells": [
  {
   "cell_type": "markdown",
   "metadata": {},
   "source": [
    "# Uber Analysis Graphics"
   ]
  },
  {
   "cell_type": "markdown",
   "metadata": {},
   "source": [
    "## Graphic 1: Revenue Distribution (Box Plot)\n",
    "\n",
    "This box plot shows the distribution of revenue. Most rides have a revenue below 1000, with outliers up to 4000.\n",
    "\n",
    "![Graphic 1](./graphics/1.png)"
   ]
  },
  {
   "cell_type": "markdown",
   "metadata": {},
   "source": [
    "## Graphic 2: Revenue Distribution (Histogram)\n",
    "\n",
    "This histogram shows a right-skewed revenue distribution, with most rides in the lower revenue brackets.\n",
    "\n",
    "![Graphic 2](./graphics/2.png)"
   ]
  },
  {
   "cell_type": "markdown",
   "metadata": {},
   "source": [
    "## Graphic 3: Ride Duration Distribution\n",
    "\n",
    "This box plot shows a symmetrical distribution of ride durations, centered around 30 minutes.\n",
    "\n",
    "![Graphic 3](./graphics/3.png)"
   ]
  }
 ],
 "metadata": {
  "kernelspec": {
   "display_name": "Python 3",
   "language": "python",
   "name": "python3"
  },
  "language_info": {
   "codemirror_mode": {
    "name": "ipython",
    "version": 3
   },
   "file_extension": ".py",
   "mimetype": "text/x-python",
   "name": "python",
   "nbconvert_exporter": "python",
   "pygments_lexer": "ipython3",
   "version": "3.10.9"
  }
 },
 "nbformat": 4,
 "nbformat_minor": 4
}