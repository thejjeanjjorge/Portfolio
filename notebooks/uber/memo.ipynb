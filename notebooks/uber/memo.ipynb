{
 "cells": [
  {
   "cell_type": "markdown",
   "id": "17e37164",
   "metadata": {},
   "source": [
    "# 📑 Stakeholder Request Memo  \n",
    "\n",
    "---\n",
    "\n",
    "**To:** Data Analytics Team  \n",
    "**From:** Operations & Strategy Stakeholders (Uber Rides Division)  \n",
    "**Subject:** Analysis of Ride Data for Operational Insights  \n",
    "**Date:** 8/23/2025\n",
    "\n",
    "**This memo simulates a stakeholder request to provide a realistic business context for the analysis.** \n",
    "\n",
    "---\n",
    "\n",
    "##  Background  \n",
    "\n",
    "As Uber continues to expand, management needs deeper insights into **ride patterns, customer satisfaction, and revenue drivers**. We collected data on over **148,000 rides** across different vehicle categories, time periods, and customer profiles.  \n",
    "\n",
    "---\n",
    "\n",
    "##  Business Questions & Requirements  \n",
    "\n",
    "### 1. Ride Duration & Revenue Distributions  \n",
    "- Provide summary statistics (**mean, median, variance, percentiles**).  \n",
    "- Identify whether durations and revenues follow any known **continuous probability distributions**.  \n",
    "\n",
    "### 2. Customer Experience & Ratings  \n",
    "- What is the **probability of a ride receiving a rating ≥ 4**?  \n",
    "- How does this probability change **conditional on vehicle type** (e.g., SUV vs Sedan)?  \n",
    "\n",
    "### 3. Operational Efficiency  \n",
    "- Model the **number of rides per day** as a discrete random variable.  \n",
    "- Estimate the **probability of exceeding certain ride count thresholds** on weekdays vs weekends.  \n",
    "\n",
    "### 4. Joint Behaviors  \n",
    "- Explore **joint distribution** of `(time of day, ride distance)` and `(vehicle type, revenue)`.  \n",
    "- Compute **marginal and conditional probabilities** for key categories.  \n",
    "\n",
    "### 5. Predictability & Central Limit Theorem (CLT) Application  \n",
    "- Use random sampling of ride durations to **demonstrate the CLT**.  \n",
    "- Construct **confidence intervals** for average ride duration and average revenue.  \n",
    "\n",
    "---\n",
    "\n",
    "##  Deliverables  \n",
    "\n",
    "- A **Jupyter Notebook** with:  \n",
    "  - Code, visualizations, and clear explanations tied to each business question.  \n",
    "  - Application of: **descriptive stats, conditional probability, discrete & continuous random variables, joint distributions, and CLT**.  \n",
    "\n",
    "- A **summary report/slide deck** highlighting **actionable insights** for stakeholders.  \n",
    "\n",
    "---\n"
   ]
  },
  {
   "cell_type": "markdown",
   "id": "64a1293e",
   "metadata": {},
   "source": []
  }
 ],
 "metadata": {
  "language_info": {
   "name": "python"
  }
 },
 "nbformat": 4,
 "nbformat_minor": 5
}
