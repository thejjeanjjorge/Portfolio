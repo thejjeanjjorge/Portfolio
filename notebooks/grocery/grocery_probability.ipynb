{
 "cells": [
  {
   "cell_type": "markdown",
   "id": "2af1ecc9",
   "metadata": {},
   "source": [
    "# Grocery Purchase Analysis: Descriptive Statistics & Probability Insights"
   ]
  },
  {
   "cell_type": "markdown",
   "id": "c7218a3b",
   "metadata": {},
   "source": [
    "Jean Jorge Fernandes"
   ]
  },
  {
   "cell_type": "markdown",
   "id": "6e89d521",
   "metadata": {},
   "source": [
    "This notebook was created during my first year studying data science. I decided to create these notebooks to reinforce the concepts I learned in class. Moreover, it will be interesting to track my growth in data science over time. Some text sections are generated with AI, and I will disclose when this is the case. If there is no disclosure, the text was written by me."
   ]
  },
  {
   "cell_type": "markdown",
   "id": "fa1d8865",
   "metadata": {},
   "source": [
    "This analysis examines purchase patterns for three products — **apples**, **bread**, and **milk** — across 1,000 transactions.\n",
    "\n",
    "The goals are to:\n",
    "- Summarize customer behavior using descriptive statistics.\n",
    "- Apply probability theory (including the inclusion–exclusion principle and complement rule) to estimate the likelihood of various purchasing scenarios.\n",
    "\n",
    "These insights can help guide marketing strategies, such as product bundling or targeted promotions.\n",
    "(This cell was generated with AI assistance.)"
   ]
  },
  {
   "cell_type": "markdown",
   "id": "8ac8974e",
   "metadata": {},
   "source": [
    "## Loading the data"
   ]
  },
  {
   "cell_type": "markdown",
   "id": "db8f9451",
   "metadata": {},
   "source": [
    "We start by importing the data. The data is a transaction dataset containing 1,000 grocery store purchases. \n",
    "Each row represents a transaction, and each column (apples, bread, milk) is a binary indicator:\n",
    "- `1` → item purchased\n",
    "- `0` → item not purchased"
   ]
  },
  {
   "cell_type": "code",
   "execution_count": 2,
   "id": "4216f01d",
   "metadata": {},
   "outputs": [
    {
     "ename": "NameError",
     "evalue": "name 'read' is not defined",
     "output_type": "error",
     "traceback": [
      "\u001b[1;31m---------------------------------------------------------------------------\u001b[0m",
      "\u001b[1;31mNameError\u001b[0m                                 Traceback (most recent call last)",
      "Cell \u001b[1;32mIn[2], line 2\u001b[0m\n\u001b[0;32m      1\u001b[0m \u001b[38;5;66;03m# load data\u001b[39;00m\n\u001b[1;32m----> 2\u001b[0m df \u001b[38;5;241m<\u001b[39m\u001b[38;5;241m-\u001b[39m read\u001b[38;5;241m.\u001b[39mcsv(\u001b[38;5;124m\"\u001b[39m\u001b[38;5;124mtransactions.csv\u001b[39m\u001b[38;5;124m\"\u001b[39m)\n\u001b[0;32m      4\u001b[0m \u001b[38;5;66;03m# preview first 5 rows\u001b[39;00m\n\u001b[0;32m      5\u001b[0m head(df)\n",
      "\u001b[1;31mNameError\u001b[0m: name 'read' is not defined"
     ]
    }
   ],
   "source": [
    "# load data\n",
    "df <- read.csv(\"transactions.csv\")\n",
    "\n",
    "# preview first 5 rows\n",
    "head(df)\n"
   ]
  },
  {
   "cell_type": "markdown",
   "id": "200b26e3",
   "metadata": {},
   "source": [
    "## Descriptive Statistics "
   ]
  },
  {
   "cell_type": "markdown",
   "id": "ca73f780",
   "metadata": {},
   "source": [
    "After loading the data, we begin with the basics of descriptive statistics. This section summarizes the key characteristics of the dataset, including measures such as the mean, median, mode, and standard deviation. These metrics provide a foundation for understanding the dataset before moving into probability-based analysis."
   ]
  },
  {
   "cell_type": "markdown",
   "id": "4ea49d62",
   "metadata": {},
   "source": []
  }
 ],
 "metadata": {
  "kernelspec": {
   "display_name": "base",
   "language": "python",
   "name": "python3"
  },
  "language_info": {
   "codemirror_mode": {
    "name": "ipython",
    "version": 3
   },
   "file_extension": ".py",
   "mimetype": "text/x-python",
   "name": "python",
   "nbconvert_exporter": "python",
   "pygments_lexer": "ipython3",
   "version": "3.12.4"
  }
 },
 "nbformat": 4,
 "nbformat_minor": 5
}
