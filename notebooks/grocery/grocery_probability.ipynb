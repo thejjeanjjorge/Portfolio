{
 "cells": [
  {
   "cell_type": "markdown",
   "id": "2af1ecc9",
   "metadata": {},
   "source": [
    "# Grocery Purchase Analysis: Descriptive Statistics & Probability Insights"
   ]
  },
  {
   "cell_type": "markdown",
   "id": "c7218a3b",
   "metadata": {},
   "source": [
    "Jean Jorge Fernandes"
   ]
  },
  {
   "cell_type": "markdown",
   "id": "6e89d521",
   "metadata": {},
   "source": [
    "This notebook was created during my first year studying data science. I decided to create these notebooks to reinforce the concepts I learned in class. Moreover, it will be interesting to track my growth in data science over time. Some text sections are generated with AI, and I will disclose when this is the case. If there is no disclosure, the text was written by me."
   ]
  },
  {
   "cell_type": "markdown",
   "id": "fa1d8865",
   "metadata": {},
   "source": [
    "This analysis examines purchase patterns for three products — **apples**, **bread**, and **milk** — across 1,000 transactions.\n",
    "\n",
    "The goals are to:\n",
    "- Summarize customer behavior using descriptive statistics.\n",
    "- Apply probability theory (including the inclusion–exclusion principle and complement rule) to estimate the likelihood of various purchasing scenarios.\n",
    "\n",
    "These insights can help guide marketing strategies, such as product bundling or targeted promotions.\n",
    "(This cell was generated with AI assistance.)"
   ]
  },
  {
   "cell_type": "markdown",
   "id": "8ac8974e",
   "metadata": {},
   "source": [
    "## Loading the data"
   ]
  },
  {
   "cell_type": "markdown",
   "id": "db8f9451",
   "metadata": {},
   "source": [
    "We start by importing the data (dataset generated with AI assistance). The data is a transaction dataset containing 1,000 grocery store purchases. \n",
    "Each row represents a transaction, and each column (apples, bread, milk) is a binary indicator:\n",
    "- `1` → item purchased\n",
    "- `0` → item not purchased"
   ]
  },
  {
   "cell_type": "code",
   "execution_count": 1,
   "id": "4216f01d",
   "metadata": {
    "vscode": {
     "languageId": "r"
    }
   },
   "outputs": [
    {
     "data": {
      "text/html": [
       "<table class=\"dataframe\">\n",
       "<caption>A data.frame: 6 × 3</caption>\n",
       "<thead>\n",
       "\t<tr><th></th><th scope=col>apples</th><th scope=col>bread</th><th scope=col>milk</th></tr>\n",
       "\t<tr><th></th><th scope=col>&lt;int&gt;</th><th scope=col>&lt;int&gt;</th><th scope=col>&lt;int&gt;</th></tr>\n",
       "</thead>\n",
       "<tbody>\n",
       "\t<tr><th scope=row>1</th><td>0</td><td>0</td><td>0</td></tr>\n",
       "\t<tr><th scope=row>2</th><td>0</td><td>0</td><td>0</td></tr>\n",
       "\t<tr><th scope=row>3</th><td>0</td><td>0</td><td>0</td></tr>\n",
       "\t<tr><th scope=row>4</th><td>0</td><td>1</td><td>1</td></tr>\n",
       "\t<tr><th scope=row>5</th><td>1</td><td>0</td><td>1</td></tr>\n",
       "\t<tr><th scope=row>6</th><td>0</td><td>0</td><td>1</td></tr>\n",
       "</tbody>\n",
       "</table>\n"
      ],
      "text/latex": [
       "A data.frame: 6 × 3\n",
       "\\begin{tabular}{r|lll}\n",
       "  & apples & bread & milk\\\\\n",
       "  & <int> & <int> & <int>\\\\\n",
       "\\hline\n",
       "\t1 & 0 & 0 & 0\\\\\n",
       "\t2 & 0 & 0 & 0\\\\\n",
       "\t3 & 0 & 0 & 0\\\\\n",
       "\t4 & 0 & 1 & 1\\\\\n",
       "\t5 & 1 & 0 & 1\\\\\n",
       "\t6 & 0 & 0 & 1\\\\\n",
       "\\end{tabular}\n"
      ],
      "text/markdown": [
       "\n",
       "A data.frame: 6 × 3\n",
       "\n",
       "| <!--/--> | apples &lt;int&gt; | bread &lt;int&gt; | milk &lt;int&gt; |\n",
       "|---|---|---|---|\n",
       "| 1 | 0 | 0 | 0 |\n",
       "| 2 | 0 | 0 | 0 |\n",
       "| 3 | 0 | 0 | 0 |\n",
       "| 4 | 0 | 1 | 1 |\n",
       "| 5 | 1 | 0 | 1 |\n",
       "| 6 | 0 | 0 | 1 |\n",
       "\n"
      ],
      "text/plain": [
       "  apples bread milk\n",
       "1 0      0     0   \n",
       "2 0      0     0   \n",
       "3 0      0     0   \n",
       "4 0      1     1   \n",
       "5 1      0     1   \n",
       "6 0      0     1   "
      ]
     },
     "metadata": {},
     "output_type": "display_data"
    }
   ],
   "source": [
    "# load data\n",
    "df <- read.csv(\"transactions.csv\")\n",
    "\n",
    "# preview first 5 rows\n",
    "head(df)\n"
   ]
  },
  {
   "cell_type": "markdown",
   "id": "200b26e3",
   "metadata": {},
   "source": [
    "## Descriptive Statistics "
   ]
  },
  {
   "cell_type": "markdown",
   "id": "ca73f780",
   "metadata": {},
   "source": [
    "After loading the data, we begin with the basics of descriptive statistics. This section summarizes the key characteristics of the dataset, including measures such as the mean, median, mode, and standard deviation. These metrics provide a foundation for understanding the dataset before moving into probability-based analysis."
   ]
  },
  {
   "cell_type": "markdown",
   "id": "11db7da5",
   "metadata": {},
   "source": [
    "-Mean: Average purchase rate. (also represent probability of purchase for binary data).\n",
    "-Median: Middle value of the distribution.\n",
    "-Mode: Most frequent value.\n",
    "-Standard Deviation: Measure of variability in purchases.\n"
   ]
  },
  {
   "cell_type": "code",
   "execution_count": 5,
   "id": "d87e9a11",
   "metadata": {
    "vscode": {
     "languageId": "r"
    }
   },
   "outputs": [
    {
     "name": "stdout",
     "output_type": "stream",
     "text": [
      "Mean"
     ]
    },
    {
     "data": {
      "text/html": [
       "<style>\n",
       ".dl-inline {width: auto; margin:0; padding: 0}\n",
       ".dl-inline>dt, .dl-inline>dd {float: none; width: auto; display: inline-block}\n",
       ".dl-inline>dt::after {content: \":\\0020\"; padding-right: .5ex}\n",
       ".dl-inline>dt:not(:first-of-type) {padding-left: .5ex}\n",
       "</style><dl class=dl-inline><dt>apples</dt><dd>0.286</dd><dt>bread</dt><dd>0.417</dd><dt>milk</dt><dd>0.454</dd></dl>\n"
      ],
      "text/latex": [
       "\\begin{description*}\n",
       "\\item[apples] 0.286\n",
       "\\item[bread] 0.417\n",
       "\\item[milk] 0.454\n",
       "\\end{description*}\n"
      ],
      "text/markdown": [
       "apples\n",
       ":   0.286bread\n",
       ":   0.417milk\n",
       ":   0.454\n",
       "\n"
      ],
      "text/plain": [
       "apples  bread   milk \n",
       " 0.286  0.417  0.454 "
      ]
     },
     "metadata": {},
     "output_type": "display_data"
    },
    {
     "name": "stdout",
     "output_type": "stream",
     "text": [
      "Median"
     ]
    },
    {
     "data": {
      "text/html": [
       "<style>\n",
       ".dl-inline {width: auto; margin:0; padding: 0}\n",
       ".dl-inline>dt, .dl-inline>dd {float: none; width: auto; display: inline-block}\n",
       ".dl-inline>dt::after {content: \":\\0020\"; padding-right: .5ex}\n",
       ".dl-inline>dt:not(:first-of-type) {padding-left: .5ex}\n",
       "</style><dl class=dl-inline><dt>apples</dt><dd>0</dd><dt>bread</dt><dd>0</dd><dt>milk</dt><dd>0</dd></dl>\n"
      ],
      "text/latex": [
       "\\begin{description*}\n",
       "\\item[apples] 0\n",
       "\\item[bread] 0\n",
       "\\item[milk] 0\n",
       "\\end{description*}\n"
      ],
      "text/markdown": [
       "apples\n",
       ":   0bread\n",
       ":   0milk\n",
       ":   0\n",
       "\n"
      ],
      "text/plain": [
       "apples  bread   milk \n",
       "     0      0      0 "
      ]
     },
     "metadata": {},
     "output_type": "display_data"
    },
    {
     "name": "stdout",
     "output_type": "stream",
     "text": [
      "Mode"
     ]
    },
    {
     "data": {
      "text/html": [
       "<style>\n",
       ".dl-inline {width: auto; margin:0; padding: 0}\n",
       ".dl-inline>dt, .dl-inline>dd {float: none; width: auto; display: inline-block}\n",
       ".dl-inline>dt::after {content: \":\\0020\"; padding-right: .5ex}\n",
       ".dl-inline>dt:not(:first-of-type) {padding-left: .5ex}\n",
       "</style><dl class=dl-inline><dt>apples</dt><dd>0</dd><dt>bread</dt><dd>0</dd><dt>milk</dt><dd>0</dd></dl>\n"
      ],
      "text/latex": [
       "\\begin{description*}\n",
       "\\item[apples] 0\n",
       "\\item[bread] 0\n",
       "\\item[milk] 0\n",
       "\\end{description*}\n"
      ],
      "text/markdown": [
       "apples\n",
       ":   0bread\n",
       ":   0milk\n",
       ":   0\n",
       "\n"
      ],
      "text/plain": [
       "apples  bread   milk \n",
       "     0      0      0 "
      ]
     },
     "metadata": {},
     "output_type": "display_data"
    },
    {
     "name": "stdout",
     "output_type": "stream",
     "text": [
      "Standad Deviation"
     ]
    },
    {
     "data": {
      "text/html": [
       "<style>\n",
       ".dl-inline {width: auto; margin:0; padding: 0}\n",
       ".dl-inline>dt, .dl-inline>dd {float: none; width: auto; display: inline-block}\n",
       ".dl-inline>dt::after {content: \":\\0020\"; padding-right: .5ex}\n",
       ".dl-inline>dt:not(:first-of-type) {padding-left: .5ex}\n",
       "</style><dl class=dl-inline><dt>apples</dt><dd>0.452115481274871</dd><dt>bread</dt><dd>0.493309592805932</dd><dt>milk</dt><dd>0.498128630106855</dd></dl>\n"
      ],
      "text/latex": [
       "\\begin{description*}\n",
       "\\item[apples] 0.452115481274871\n",
       "\\item[bread] 0.493309592805932\n",
       "\\item[milk] 0.498128630106855\n",
       "\\end{description*}\n"
      ],
      "text/markdown": [
       "apples\n",
       ":   0.452115481274871bread\n",
       ":   0.493309592805932milk\n",
       ":   0.498128630106855\n",
       "\n"
      ],
      "text/plain": [
       "   apples     bread      milk \n",
       "0.4521155 0.4933096 0.4981286 "
      ]
     },
     "metadata": {},
     "output_type": "display_data"
    }
   ],
   "source": [
    "# Mean\n",
    "cat(\"Mean\")\n",
    "colMeans(df)\n",
    "\n",
    "# Median\n",
    "cat(\"Median\")\n",
    "apply(df, 2, median)\n",
    "\n",
    "# Mode\n",
    "cat(\"Mode\")\n",
    "get_mode <- function(v) {\n",
    "    uniq_vals <- unique(v)\n",
    "    uniq_vals[which.max(tabulate(match(v, uniq_vals)))]\n",
    "}\n",
    "apply(df, 2, get_mode)\n",
    "\n",
    "#Standad Deviation\n",
    "cat(\"Standad Deviation\")\n",
    "apply(df, 2, sd)"
   ]
  },
  {
   "cell_type": "markdown",
   "id": "316582c3",
   "metadata": {},
   "source": [
    "The average purchase rate is 0.268 for apples, 0.417 for bread, and 0.454 for milk.\n",
    "The median for all items is 0, meaning that in at least half of all transactions the item was not purchased (in binary data, the median will only be 1 if more than 50% of transactions include the item).\n",
    "The mode is also 0 for all items, indicating that “not purchased” is the most common outcome.\n",
    "The standard deviation values show that purchase patterns for all three items are moderately spread out, with milk having the highest variability (0.498). This suggests that milk purchases are the most evenly split between purchase and non-purchase transactions, while apples show slightly less variability."
   ]
  },
  {
   "cell_type": "markdown",
   "id": "d750301e",
   "metadata": {},
   "source": [
    "### 💡 Business Insight:"
   ]
  },
  {
   "cell_type": "markdown",
   "id": "f4a7b5c0",
   "metadata": {},
   "source": [
    "Milk has the highest variability (0.498), indicating that purchase behavior is evenly split. With a purchase rate of 0.454, the customer base is moderately divided, leaving a large persuadable segment. Targeted promotions could be effective in converting non-purchasers.\n",
    "Apples have a low average purchase rate (0.286). It would be important to investigate the reasons for low sales, as modest variability (SD = 0.452) suggests that purchase behavior is relatively consistent and may not respond strongly to discounts alone. Bundling apples with complementary products could introduce them to new customers without requiring them to purchase the item individually.\n",
    "Bread has a modest purchase rate (0.417) and moderate variability (SD = 0.493). This indicates that purchase behavior is somewhat divided, leaving a sizeable persuadable segment. Targeted promotions could be effective in converting non-purchasers into regular buyers."
   ]
  },
  {
   "cell_type": "markdown",
   "id": "7408780e",
   "metadata": {},
   "source": [
    "## Frequency Counts"
   ]
  },
  {
   "cell_type": "markdown",
   "id": "0c9d46d6",
   "metadata": {},
   "source": [
    "This section displays the number of transactions in which each item was purchased or not purchased. While the mean gives us the probability, frequency count provides the raw transaction totals, which can be useful for inventory plannig and sales. "
   ]
  },
  {
   "cell_type": "code",
   "execution_count": 6,
   "id": "281b0d0e",
   "metadata": {
    "vscode": {
     "languageId": "r"
    }
   },
   "outputs": [
    {
     "data": {
      "text/plain": [
       "$apples\n",
       "\n",
       "  0   1 \n",
       "714 286 \n",
       "\n",
       "$bread\n",
       "\n",
       "  0   1 \n",
       "583 417 \n",
       "\n",
       "$milk\n",
       "\n",
       "  0   1 \n",
       "546 454 \n"
      ]
     },
     "metadata": {},
     "output_type": "display_data"
    }
   ],
   "source": [
    "# Frequency count for each item\n",
    "\n",
    "lapply(df, table)"
   ]
  },
  {
   "cell_type": "markdown",
   "id": "180384ca",
   "metadata": {},
   "source": [
    "This further confirms the rates from the previous section. The differences in counts align with the calculated means and further highlight milk's stronger presence in customers baskets. "
   ]
  },
  {
   "cell_type": "markdown",
   "id": "7941bbeb",
   "metadata": {},
   "source": [
    "## Basic Visualization: Purchase Counts"
   ]
  },
  {
   "cell_type": "markdown",
   "id": "ab175208",
   "metadata": {},
   "source": [
    "The bar chart below visualizes the number of transactions in which each item was purchased. This complement the frequency count and makes it easier to compare products side-by-side."
   ]
  },
  {
   "cell_type": "markdown",
   "id": "f4a2c4a1",
   "metadata": {},
   "source": [
    "> **Note:**  \n",
    "> This notebook uses the following R packages:  \n",
    "> - ggplot2  \n",
    "> \n",
    "> If not already installed, run in R:  \n",
    "> `install.packages(\"ggplot2\")` (generated with AI assistance)"
   ]
  },
  {
   "cell_type": "code",
   "execution_count": 8,
   "id": "b052b642",
   "metadata": {
    "vscode": {
     "languageId": "r"
    }
   },
   "outputs": [],
   "source": [
    "# Loading ggplot2\n",
    "library(ggplot2)\n"
   ]
  },
  {
   "cell_type": "code",
   "execution_count": null,
   "id": "74936366",
   "metadata": {
    "vscode": {
     "languageId": "r"
    }
   },
   "outputs": [],
   "source": []
  }
 ],
 "metadata": {
  "kernelspec": {
   "display_name": "R (4.5.1)",
   "language": "R",
   "name": "ir"
  },
  "language_info": {
   "codemirror_mode": "r",
   "file_extension": ".r",
   "mimetype": "text/x-r-source",
   "name": "R",
   "pygments_lexer": "r",
   "version": "4.5.1"
  }
 },
 "nbformat": 4,
 "nbformat_minor": 5
}
