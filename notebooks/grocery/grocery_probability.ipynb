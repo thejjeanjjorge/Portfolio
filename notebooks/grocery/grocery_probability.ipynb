{
 "cells": [
  {
   "cell_type": "markdown",
   "id": "2af1ecc9",
   "metadata": {},
   "source": [
    "# Grocery Purchase Analysis: Descriptive Statistics & Probability Insights"
   ]
  },
  {
   "cell_type": "markdown",
   "id": "6e89d521",
   "metadata": {},
   "source": [
    "This notebook was created during my first year studying data science. I decided to create these notebooks to reinforce the concepts I learned in class. Moreover, it will be interesting to track my growth in data science over time. Some text sections are generated with AI, and I will disclose when this is the case. If there is no disclosure, the text was written by me."
   ]
  },
  {
   "cell_type": "markdown",
   "id": "fa1d8865",
   "metadata": {},
   "source": [
    "This analysis examines purchase patterns for three products — **apples**, **bread**, and **milk** — across 1,000 transactions.\n",
    "\n",
    "The goals are to:\n",
    "- Summarize customer behavior using descriptive statistics.\n",
    "- Apply probability theory (including the inclusion–exclusion principle and complement rule) to estimate the likelihood of various purchasing scenarios.\n",
    "\n",
    "These insights can help guide marketing strategies, such as product bundling or targeted promotions.\n",
    "(This cell was generated with AI assistance.)"
   ]
  },
  {
   "cell_type": "markdown",
   "id": "8ac8974e",
   "metadata": {},
   "source": []
  }
 ],
 "metadata": {
  "language_info": {
   "name": "python"
  }
 },
 "nbformat": 4,
 "nbformat_minor": 5
}
