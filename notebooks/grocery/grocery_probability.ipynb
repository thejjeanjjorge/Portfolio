{
 "cells": [
  {
   "cell_type": "markdown",
   "id": "2af1ecc9",
   "metadata": {},
   "source": [
    "# Grocery Purchase Analysis: Descriptive Statistics & Probability Insights"
   ]
  },
  {
   "cell_type": "markdown",
   "id": "c7218a3b",
   "metadata": {},
   "source": [
    "Jean Jorge Fernandes"
   ]
  },
  {
   "cell_type": "markdown",
   "id": "6e89d521",
   "metadata": {},
   "source": [
    "This notebook was created during my first year studying data science. I decided to create these notebooks to reinforce the concepts I learned in class. Moreover, it will be interesting to track my growth in data science over time. Some text sections are generated with AI, and I will disclose when this is the case. If there is no disclosure, the text was written by me."
   ]
  },
  {
   "cell_type": "markdown",
   "id": "fa1d8865",
   "metadata": {},
   "source": [
    "This analysis examines purchase patterns for three products — **apples**, **bread**, and **milk** — across 1,000 transactions.\n",
    "\n",
    "The goals are to:\n",
    "- Summarize customer behavior using descriptive statistics.\n",
    "- Apply probability theory (including the inclusion–exclusion principle and complement rule) to estimate the likelihood of various purchasing scenarios.\n",
    "\n",
    "These insights can help guide marketing strategies, such as product bundling or targeted promotions.\n",
    "(This cell was generated with AI assistance.)"
   ]
  },
  {
   "cell_type": "markdown",
   "id": "348c9299",
   "metadata": {},
   "source": [
    "## Executive Summary"
   ]
  },
  {
   "cell_type": "markdown",
   "id": "3a1424e7",
   "metadata": {},
   "source": [
    "We analyzed grocery store transaction data to identify purchasing trends. Milk led in sales, followed by bread, with apples as the least purchased item. Most customers buy at least one of the three products. We recommend targeted promotions for milk and bread to encourage multi-item purchases, and further investigation into the low sales of apples to determine underlying causes. "
   ]
  },
  {
   "cell_type": "markdown",
   "id": "8ac8974e",
   "metadata": {},
   "source": [
    "## Loading the data"
   ]
  },
  {
   "cell_type": "markdown",
   "id": "db8f9451",
   "metadata": {},
   "source": [
    "We start by importing the data (dataset generated with AI assistance). The data is a transaction dataset containing 1,000 grocery store purchases. \n",
    "Each row represents a transaction, and each column (apples, bread, milk) is a binary indicator:\n",
    "- `1` → item purchased\n",
    "- `0` → item not purchased"
   ]
  },
  {
   "cell_type": "code",
   "execution_count": 1,
   "id": "4216f01d",
   "metadata": {
    "vscode": {
     "languageId": "r"
    }
   },
   "outputs": [
    {
     "data": {
      "text/html": [
       "<table class=\"dataframe\">\n",
       "<caption>A data.frame: 6 × 3</caption>\n",
       "<thead>\n",
       "\t<tr><th></th><th scope=col>apples</th><th scope=col>bread</th><th scope=col>milk</th></tr>\n",
       "\t<tr><th></th><th scope=col>&lt;int&gt;</th><th scope=col>&lt;int&gt;</th><th scope=col>&lt;int&gt;</th></tr>\n",
       "</thead>\n",
       "<tbody>\n",
       "\t<tr><th scope=row>1</th><td>0</td><td>0</td><td>0</td></tr>\n",
       "\t<tr><th scope=row>2</th><td>0</td><td>0</td><td>0</td></tr>\n",
       "\t<tr><th scope=row>3</th><td>0</td><td>0</td><td>0</td></tr>\n",
       "\t<tr><th scope=row>4</th><td>0</td><td>1</td><td>1</td></tr>\n",
       "\t<tr><th scope=row>5</th><td>1</td><td>0</td><td>1</td></tr>\n",
       "\t<tr><th scope=row>6</th><td>0</td><td>0</td><td>1</td></tr>\n",
       "</tbody>\n",
       "</table>\n"
      ],
      "text/latex": [
       "A data.frame: 6 × 3\n",
       "\\begin{tabular}{r|lll}\n",
       "  & apples & bread & milk\\\\\n",
       "  & <int> & <int> & <int>\\\\\n",
       "\\hline\n",
       "\t1 & 0 & 0 & 0\\\\\n",
       "\t2 & 0 & 0 & 0\\\\\n",
       "\t3 & 0 & 0 & 0\\\\\n",
       "\t4 & 0 & 1 & 1\\\\\n",
       "\t5 & 1 & 0 & 1\\\\\n",
       "\t6 & 0 & 0 & 1\\\\\n",
       "\\end{tabular}\n"
      ],
      "text/markdown": [
       "\n",
       "A data.frame: 6 × 3\n",
       "\n",
       "| <!--/--> | apples &lt;int&gt; | bread &lt;int&gt; | milk &lt;int&gt; |\n",
       "|---|---|---|---|\n",
       "| 1 | 0 | 0 | 0 |\n",
       "| 2 | 0 | 0 | 0 |\n",
       "| 3 | 0 | 0 | 0 |\n",
       "| 4 | 0 | 1 | 1 |\n",
       "| 5 | 1 | 0 | 1 |\n",
       "| 6 | 0 | 0 | 1 |\n",
       "\n"
      ],
      "text/plain": [
       "  apples bread milk\n",
       "1 0      0     0   \n",
       "2 0      0     0   \n",
       "3 0      0     0   \n",
       "4 0      1     1   \n",
       "5 1      0     1   \n",
       "6 0      0     1   "
      ]
     },
     "metadata": {},
     "output_type": "display_data"
    }
   ],
   "source": [
    "# load data\n",
    "df <- read.csv(\"transactions.csv\")\n",
    "\n",
    "# preview first 5 rows\n",
    "head(df)\n"
   ]
  },
  {
   "cell_type": "markdown",
   "id": "200b26e3",
   "metadata": {},
   "source": [
    "## Descriptive Statistics "
   ]
  },
  {
   "cell_type": "markdown",
   "id": "ca73f780",
   "metadata": {},
   "source": [
    "After loading the data, we begin with the basics of descriptive statistics. This section summarizes the key characteristics of the dataset, including measures such as the mean, median, mode, and standard deviation. These metrics provide a foundation for understanding the dataset before moving into probability-based analysis."
   ]
  },
  {
   "cell_type": "markdown",
   "id": "11db7da5",
   "metadata": {},
   "source": [
    "-Mean: Average purchase rate. (also represent probability of purchase for binary data).\n",
    "-Median: Middle value of the distribution.\n",
    "-Mode: Most frequent value.\n",
    "-Standard Deviation: Measure of variability in purchases.\n"
   ]
  },
  {
   "cell_type": "code",
   "execution_count": 5,
   "id": "d87e9a11",
   "metadata": {
    "vscode": {
     "languageId": "r"
    }
   },
   "outputs": [
    {
     "name": "stdout",
     "output_type": "stream",
     "text": [
      "Mean"
     ]
    },
    {
     "data": {
      "text/html": [
       "<style>\n",
       ".dl-inline {width: auto; margin:0; padding: 0}\n",
       ".dl-inline>dt, .dl-inline>dd {float: none; width: auto; display: inline-block}\n",
       ".dl-inline>dt::after {content: \":\\0020\"; padding-right: .5ex}\n",
       ".dl-inline>dt:not(:first-of-type) {padding-left: .5ex}\n",
       "</style><dl class=dl-inline><dt>apples</dt><dd>0.286</dd><dt>bread</dt><dd>0.417</dd><dt>milk</dt><dd>0.454</dd></dl>\n"
      ],
      "text/latex": [
       "\\begin{description*}\n",
       "\\item[apples] 0.286\n",
       "\\item[bread] 0.417\n",
       "\\item[milk] 0.454\n",
       "\\end{description*}\n"
      ],
      "text/markdown": [
       "apples\n",
       ":   0.286bread\n",
       ":   0.417milk\n",
       ":   0.454\n",
       "\n"
      ],
      "text/plain": [
       "apples  bread   milk \n",
       " 0.286  0.417  0.454 "
      ]
     },
     "metadata": {},
     "output_type": "display_data"
    },
    {
     "name": "stdout",
     "output_type": "stream",
     "text": [
      "Median"
     ]
    },
    {
     "data": {
      "text/html": [
       "<style>\n",
       ".dl-inline {width: auto; margin:0; padding: 0}\n",
       ".dl-inline>dt, .dl-inline>dd {float: none; width: auto; display: inline-block}\n",
       ".dl-inline>dt::after {content: \":\\0020\"; padding-right: .5ex}\n",
       ".dl-inline>dt:not(:first-of-type) {padding-left: .5ex}\n",
       "</style><dl class=dl-inline><dt>apples</dt><dd>0</dd><dt>bread</dt><dd>0</dd><dt>milk</dt><dd>0</dd></dl>\n"
      ],
      "text/latex": [
       "\\begin{description*}\n",
       "\\item[apples] 0\n",
       "\\item[bread] 0\n",
       "\\item[milk] 0\n",
       "\\end{description*}\n"
      ],
      "text/markdown": [
       "apples\n",
       ":   0bread\n",
       ":   0milk\n",
       ":   0\n",
       "\n"
      ],
      "text/plain": [
       "apples  bread   milk \n",
       "     0      0      0 "
      ]
     },
     "metadata": {},
     "output_type": "display_data"
    },
    {
     "name": "stdout",
     "output_type": "stream",
     "text": [
      "Mode"
     ]
    },
    {
     "data": {
      "text/html": [
       "<style>\n",
       ".dl-inline {width: auto; margin:0; padding: 0}\n",
       ".dl-inline>dt, .dl-inline>dd {float: none; width: auto; display: inline-block}\n",
       ".dl-inline>dt::after {content: \":\\0020\"; padding-right: .5ex}\n",
       ".dl-inline>dt:not(:first-of-type) {padding-left: .5ex}\n",
       "</style><dl class=dl-inline><dt>apples</dt><dd>0</dd><dt>bread</dt><dd>0</dd><dt>milk</dt><dd>0</dd></dl>\n"
      ],
      "text/latex": [
       "\\begin{description*}\n",
       "\\item[apples] 0\n",
       "\\item[bread] 0\n",
       "\\item[milk] 0\n",
       "\\end{description*}\n"
      ],
      "text/markdown": [
       "apples\n",
       ":   0bread\n",
       ":   0milk\n",
       ":   0\n",
       "\n"
      ],
      "text/plain": [
       "apples  bread   milk \n",
       "     0      0      0 "
      ]
     },
     "metadata": {},
     "output_type": "display_data"
    },
    {
     "name": "stdout",
     "output_type": "stream",
     "text": [
      "Standad Deviation"
     ]
    },
    {
     "data": {
      "text/html": [
       "<style>\n",
       ".dl-inline {width: auto; margin:0; padding: 0}\n",
       ".dl-inline>dt, .dl-inline>dd {float: none; width: auto; display: inline-block}\n",
       ".dl-inline>dt::after {content: \":\\0020\"; padding-right: .5ex}\n",
       ".dl-inline>dt:not(:first-of-type) {padding-left: .5ex}\n",
       "</style><dl class=dl-inline><dt>apples</dt><dd>0.452115481274871</dd><dt>bread</dt><dd>0.493309592805932</dd><dt>milk</dt><dd>0.498128630106855</dd></dl>\n"
      ],
      "text/latex": [
       "\\begin{description*}\n",
       "\\item[apples] 0.452115481274871\n",
       "\\item[bread] 0.493309592805932\n",
       "\\item[milk] 0.498128630106855\n",
       "\\end{description*}\n"
      ],
      "text/markdown": [
       "apples\n",
       ":   0.452115481274871bread\n",
       ":   0.493309592805932milk\n",
       ":   0.498128630106855\n",
       "\n"
      ],
      "text/plain": [
       "   apples     bread      milk \n",
       "0.4521155 0.4933096 0.4981286 "
      ]
     },
     "metadata": {},
     "output_type": "display_data"
    }
   ],
   "source": [
    "# Mean\n",
    "cat(\"Mean\")\n",
    "colMeans(df)\n",
    "\n",
    "# Median\n",
    "cat(\"Median\")\n",
    "apply(df, 2, median)\n",
    "\n",
    "# Mode\n",
    "cat(\"Mode\")\n",
    "get_mode <- function(v) {\n",
    "    uniq_vals <- unique(v)\n",
    "    uniq_vals[which.max(tabulate(match(v, uniq_vals)))]\n",
    "}\n",
    "apply(df, 2, get_mode)\n",
    "\n",
    "#Standad Deviation\n",
    "cat(\"Standad Deviation\")\n",
    "apply(df, 2, sd)"
   ]
  },
  {
   "cell_type": "markdown",
   "id": "316582c3",
   "metadata": {},
   "source": [
    "The average purchase rate is 0.268 for apples, 0.417 for bread, and 0.454 for milk.\n",
    "The median for all items is 0, meaning that in at least half of all transactions the item was not purchased (in binary data, the median will only be 1 if more than 50% of transactions include the item).\n",
    "The mode is also 0 for all items, indicating that “not purchased” is the most common outcome.\n",
    "The standard deviation values show that purchase patterns for all three items are moderately spread out, with milk having the highest variability (0.498). This suggests that milk purchases are the most evenly split between purchase and non-purchase transactions, while apples show slightly less variability."
   ]
  },
  {
   "cell_type": "markdown",
   "id": "d750301e",
   "metadata": {},
   "source": [
    "### 💡 Business Insight:"
   ]
  },
  {
   "cell_type": "markdown",
   "id": "f4a7b5c0",
   "metadata": {},
   "source": [
    "Milk has the highest variability (0.498), indicating that purchase behavior is evenly split. With a purchase rate of 0.454, the customer base is moderately divided, leaving a large persuadable segment. Targeted promotions could be effective in converting non-purchasers.\n",
    "Apples have a low average purchase rate (0.286). It would be important to investigate the reasons for low sales, as modest variability (SD = 0.452) suggests that purchase behavior is relatively consistent and may not respond strongly to discounts alone. Bundling apples with complementary products could introduce them to new customers without requiring them to purchase the item individually.\n",
    "Bread has a modest purchase rate (0.417) and moderate variability (SD = 0.493). This indicates that purchase behavior is somewhat divided, leaving a sizeable persuadable segment. Targeted promotions could be effective in converting non-purchasers into regular buyers."
   ]
  },
  {
   "cell_type": "markdown",
   "id": "7408780e",
   "metadata": {},
   "source": [
    "## Frequency Counts"
   ]
  },
  {
   "cell_type": "markdown",
   "id": "0c9d46d6",
   "metadata": {},
   "source": [
    "This section displays the number of transactions in which each item was purchased or not purchased. While the mean gives us the probability, frequency count provides the raw transaction totals, which can be useful for inventory plannig and sales. "
   ]
  },
  {
   "cell_type": "code",
   "execution_count": 6,
   "id": "281b0d0e",
   "metadata": {
    "vscode": {
     "languageId": "r"
    }
   },
   "outputs": [
    {
     "data": {
      "text/plain": [
       "$apples\n",
       "\n",
       "  0   1 \n",
       "714 286 \n",
       "\n",
       "$bread\n",
       "\n",
       "  0   1 \n",
       "583 417 \n",
       "\n",
       "$milk\n",
       "\n",
       "  0   1 \n",
       "546 454 \n"
      ]
     },
     "metadata": {},
     "output_type": "display_data"
    }
   ],
   "source": [
    "# Frequency count for each item\n",
    "\n",
    "lapply(df, table)"
   ]
  },
  {
   "cell_type": "markdown",
   "id": "180384ca",
   "metadata": {},
   "source": [
    "This further confirms the rates from the previous section. The differences in counts align with the calculated means and further highlight milk's stronger presence in customers baskets. "
   ]
  },
  {
   "cell_type": "markdown",
   "id": "7941bbeb",
   "metadata": {},
   "source": [
    "## Basic Visualization: Purchase Counts"
   ]
  },
  {
   "cell_type": "markdown",
   "id": "ab175208",
   "metadata": {},
   "source": [
    "The bar chart below visualizes the number of transactions in which each item was purchased. This complement the frequency count and makes it easier to compare products side-by-side."
   ]
  },
  {
   "cell_type": "markdown",
   "id": "f4a2c4a1",
   "metadata": {},
   "source": [
    "> **Note:**  \n",
    "> This notebook uses the following R packages:  \n",
    "> - ggplot2  \n",
    "> \n",
    "> If not already installed, run in R:  \n",
    "> `install.packages(\"ggplot2\")` (generated with AI assistance)"
   ]
  },
  {
   "cell_type": "code",
   "execution_count": 8,
   "id": "b052b642",
   "metadata": {
    "vscode": {
     "languageId": "r"
    }
   },
   "outputs": [],
   "source": [
    "# Loading ggplot2\n",
    "library(ggplot2)\n"
   ]
  },
  {
   "cell_type": "code",
   "execution_count": 26,
   "id": "74936366",
   "metadata": {
    "vscode": {
     "languageId": "r"
    }
   },
   "outputs": [
    {
     "data": {
      "text/html": [
       "<table class=\"dataframe\">\n",
       "<caption>A data.frame: 3 × 2</caption>\n",
       "<thead>\n",
       "\t<tr><th scope=col>item</th><th scope=col>purchases</th></tr>\n",
       "\t<tr><th scope=col>&lt;chr&gt;</th><th scope=col>&lt;int&gt;</th></tr>\n",
       "</thead>\n",
       "<tbody>\n",
       "\t<tr><td>Apples</td><td>286</td></tr>\n",
       "\t<tr><td>Bread </td><td>417</td></tr>\n",
       "\t<tr><td>Milk  </td><td>454</td></tr>\n",
       "</tbody>\n",
       "</table>\n"
      ],
      "text/latex": [
       "A data.frame: 3 × 2\n",
       "\\begin{tabular}{ll}\n",
       " item & purchases\\\\\n",
       " <chr> & <int>\\\\\n",
       "\\hline\n",
       "\t Apples & 286\\\\\n",
       "\t Bread  & 417\\\\\n",
       "\t Milk   & 454\\\\\n",
       "\\end{tabular}\n"
      ],
      "text/markdown": [
       "\n",
       "A data.frame: 3 × 2\n",
       "\n",
       "| item &lt;chr&gt; | purchases &lt;int&gt; |\n",
       "|---|---|\n",
       "| Apples | 286 |\n",
       "| Bread  | 417 |\n",
       "| Milk   | 454 |\n",
       "\n"
      ],
      "text/plain": [
       "  item   purchases\n",
       "1 Apples 286      \n",
       "2 Bread  417      \n",
       "3 Milk   454      "
      ]
     },
     "metadata": {},
     "output_type": "display_data"
    },
    {
     "data": {
      "image/png": "[encoded data removed]",
      "text/plain": [
       "plot without title"
      ]
     },
     "metadata": {
      "image/png": {
       "height": 420,
       "width": 420
      }
     },
     "output_type": "display_data"
    }
   ],
   "source": [
    "# Preparing data for plotting\n",
    "purchase_counts <- data.frame(\n",
    "    item = c(\"Apples\", \"Bread\", \"Milk\"),\n",
    "    purchases = c(sum(df$apples), sum(df$bread), sum(df$milk))\n",
    "    )\n",
    "\n",
    "purchase_counts\n",
    "\n",
    "# Plotting the bar chart\n",
    "ggplot(purchase_counts, aes(x = item, y = purchases, fill = item)) + geom_bar(stat = \"identity\") + \n",
    "    labs(title = \"Number of transactions with Item Purchased\", x = \"Item\", y = \"Purchase Count\") + \n",
    "    theme_gray() + theme(legend.position = \"none\") + scale_fill_brewer(palette = \"Accent\")"
   ]
  },
  {
   "cell_type": "markdown",
   "id": "2c3c21f4",
   "metadata": {},
   "source": [
    "### 💡 Business Insight:"
   ]
  },
  {
   "cell_type": "markdown",
   "id": "328e597c",
   "metadata": {},
   "source": [
    "As stated before, the chart shows that milk leads in total purchases (454 transactions), followed by bread (417), and apples (286). The gap in between milk and apples futher confirms that customer strongly prefer milk, while bread holds a middle position. Given milks high variability, targered promotions could further elevate its strong performance. Apple with the lowest count should be further investigated, and mau require different strageties such as bundling or repositiing in the store to increase visibility. "
   ]
  },
  {
   "cell_type": "markdown",
   "id": "28b5164d",
   "metadata": {},
   "source": [
    "## Probability Axioms in Action"
   ]
  },
  {
   "cell_type": "markdown",
   "id": "df772c79",
   "metadata": {},
   "source": []
  },
  {
   "cell_type": "markdown",
   "id": "1d4b7687",
   "metadata": {},
   "source": [
    "In this section, we apply the axioms of probability to calculate event prababilities from the dataset.\n",
    "\n",
    "We will compute:<br>\n",
    "1.1 Individual probabilities \\(P(A)\\), \\(P(B)\\), \\(P(C)\\) <br>\n",
    "1.2 Pairwise intersection \\(P(A \\cap B)\\), \\(P(B \\cap C)\\), \\(P(A \\cap C)\\)<br>\n",
    "1.3 Triple intersection \\(P(A \\cap B \\cap C)\\)<br>\n",
    "\n",
    "Using those, we will:<br>\n",
    "2.1 Apply the inclusion-exclusion principle to find \\(P(\\text{at least 1 item})\\)<br>\n",
    "2.2 Use the complement rule ro find \\(P(\\text{none})\\)<br>"
   ]
  },
  {
   "cell_type": "code",
   "execution_count": 34,
   "id": "60a29cf9",
   "metadata": {
    "vscode": {
     "languageId": "r"
    }
   },
   "outputs": [
    {
     "data": {
      "text/html": [
       "<dl>\n",
       "\t<dt>$P_A</dt>\n",
       "\t\t<dd>0.286</dd>\n",
       "\t<dt>$P_B</dt>\n",
       "\t\t<dd>0.417</dd>\n",
       "\t<dt>$P_C</dt>\n",
       "\t\t<dd>0.454</dd>\n",
       "\t<dt>$P_AB</dt>\n",
       "\t\t<dd>0.108</dd>\n",
       "\t<dt>$P_BC</dt>\n",
       "\t\t<dd>0.186</dd>\n",
       "\t<dt>$P_AC</dt>\n",
       "\t\t<dd>0.138</dd>\n",
       "\t<dt>$P_ABC</dt>\n",
       "\t\t<dd>0.046</dd>\n",
       "\t<dt>$P_atleast1</dt>\n",
       "\t\t<dd>0.771</dd>\n",
       "\t<dt>$P_none</dt>\n",
       "\t\t<dd>0.229</dd>\n",
       "</dl>\n"
      ],
      "text/latex": [
       "\\begin{description}\n",
       "\\item[\\$P\\_A] 0.286\n",
       "\\item[\\$P\\_B] 0.417\n",
       "\\item[\\$P\\_C] 0.454\n",
       "\\item[\\$P\\_AB] 0.108\n",
       "\\item[\\$P\\_BC] 0.186\n",
       "\\item[\\$P\\_AC] 0.138\n",
       "\\item[\\$P\\_ABC] 0.046\n",
       "\\item[\\$P\\_atleast1] 0.771\n",
       "\\item[\\$P\\_none] 0.229\n",
       "\\end{description}\n"
      ],
      "text/markdown": [
       "$P_A\n",
       ":   0.286\n",
       "$P_B\n",
       ":   0.417\n",
       "$P_C\n",
       ":   0.454\n",
       "$P_AB\n",
       ":   0.108\n",
       "$P_BC\n",
       ":   0.186\n",
       "$P_AC\n",
       ":   0.138\n",
       "$P_ABC\n",
       ":   0.046\n",
       "$P_atleast1\n",
       ":   0.771\n",
       "$P_none\n",
       ":   0.229\n",
       "\n",
       "\n"
      ],
      "text/plain": [
       "$P_A\n",
       "[1] 0.286\n",
       "\n",
       "$P_B\n",
       "[1] 0.417\n",
       "\n",
       "$P_C\n",
       "[1] 0.454\n",
       "\n",
       "$P_AB\n",
       "[1] 0.108\n",
       "\n",
       "$P_BC\n",
       "[1] 0.186\n",
       "\n",
       "$P_AC\n",
       "[1] 0.138\n",
       "\n",
       "$P_ABC\n",
       "[1] 0.046\n",
       "\n",
       "$P_atleast1\n",
       "[1] 0.771\n",
       "\n",
       "$P_none\n",
       "[1] 0.229\n"
      ]
     },
     "metadata": {},
     "output_type": "display_data"
    }
   ],
   "source": [
    "# Individual Probabilities\n",
    "pA <- mean(df$apples)\n",
    "pB <- mean(df$bread)\n",
    "pC <- mean(df$milk)\n",
    "\n",
    "# Pairwise intersection\n",
    "pAB <- mean(df$apples & df$bread)\n",
    "pBC <- mean(df$bread & df$milk)\n",
    "pAC <- mean(df$milk & df$apples)\n",
    "\n",
    "# Triple intersection\n",
    "pABC <- mean(df$apples & df$bread & df$milk)\n",
    "\n",
    "# Inclusion-Exclusion: at least 1 \n",
    "p_atleast1 <- pA + pB + pC - pAB - pBC - pCA + pABC\n",
    "\n",
    "# Complement: none\n",
    "p_none <- 1- p_atleast1\n",
    "\n",
    "list(\n",
    "  P_A = pA,\n",
    "  P_B = pB,\n",
    "  P_C = pC,\n",
    "  P_AB = pAB,\n",
    "  P_BC = pBC,\n",
    "  P_AC = pAC,\n",
    "  P_ABC = pABC,\n",
    "  P_atleast1 = p_atleast1,\n",
    "  P_none = p_none\n",
    ")"
   ]
  },
  {
   "cell_type": "markdown",
   "id": "056cf411",
   "metadata": {},
   "source": [
    "### 💡 Business Insight:"
   ]
  },
  {
   "cell_type": "markdown",
   "id": "7cca12c7",
   "metadata": {},
   "source": [
    "The probability of a customer purchasing at least one of the three items is high (0.771), while the probability of purchasing none is low (0.229). This indicates that these products function as staples in customer baskets. The strategic focus should be on maximizing quantity per basket. Since these items are already present in most transactions, targeted actions could include loyalty program rewards, multi-buy offers, and cross-promotions to encourage customers to purchase multiple items. (Marketing strategies generated with AI assistance.)"
   ]
  },
  {
   "cell_type": "markdown",
   "id": "c0fafec3",
   "metadata": {},
   "source": [
    "## Results & and Final Insights"
   ]
  },
  {
   "cell_type": "markdown",
   "id": "6d146fae",
   "metadata": {},
   "source": [
    "This notebook analyzed data from a grocery store dataset and identified several important business insights. Milk was the most purchased item, followed by bread, with apples as the least purchased. The bar chart confirmed this ranking. In terms of variability, milk showed the highest variability, followed by bread, then apples. The high variability for milk indicates that customers are split, creating an opportunity for targeted promotions.\n",
    "\n",
    "Apples’ low purchase rate suggests the need for further investigation into why sales are weak. Since the probability of a customer purchasing at least one of the three items is high and the probability of purchasing none is low, these products can be considered staples. Marketing strategies should focus on encouraging customers to purchase multiple items per transaction, particularly bread and milk.\n",
    "\n",
    "These recommendations are limited to the three products analyzed. For future analysis, expanding the product list, examining seasonal trends, and performing customer segmentation are recommended to generate more comprehensive insights."
   ]
  },
  {
   "cell_type": "markdown",
   "id": "e0709c7e",
   "metadata": {},
   "source": []
  }
 ],
 "metadata": {
  "kernelspec": {
   "display_name": "R (4.5.1)",
   "language": "R",
   "name": "ir"
  },
  "language_info": {
   "codemirror_mode": "r",
   "file_extension": ".r",
   "mimetype": "text/x-r-source",
   "name": "R",
   "pygments_lexer": "r",
   "version": "4.5.1"
  }
 },
 "nbformat": 4,
 "nbformat_minor": 5
}
