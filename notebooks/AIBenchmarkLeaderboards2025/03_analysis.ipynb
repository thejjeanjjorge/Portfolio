{
 "cells": [
  {
   "cell_type": "markdown",
   "id": "0807dd82",
   "metadata": {},
   "source": [
    "Introduction – why AI benchmarks matter, objective of project.\n",
    "\n",
    "Methods – describe data sources (MMLU-Pro, HLE, vals.ai, vellum.ai, etc.), normalization, ranking rules.\n",
    "\n",
    "Results – visual comparisons (leaderboards, radar charts).\n",
    "\n",
    "Discussion – insights: GPT-5 dominates reasoning, Gemini strong in efficiency, Claude excels in long context, Qwen represents open-source.\n",
    "\n",
    "Conclusion – “Best AI of 2025 depends on criteria…”"
   ]
  },
  {
   "cell_type": "markdown",
   "id": "01abae56",
   "metadata": {},
   "source": []
  }
 ],
 "metadata": {
  "language_info": {
   "name": "python"
  }
 },
 "nbformat": 4,
 "nbformat_minor": 5
}
