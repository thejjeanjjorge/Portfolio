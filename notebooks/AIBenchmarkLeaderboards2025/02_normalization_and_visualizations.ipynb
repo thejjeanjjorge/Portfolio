{
 "cells": [
  {
   "cell_type": "markdown",
   "id": "c1b49ef3",
   "metadata": {},
   "source": [
    "You’ll want 3 main visual types:\n",
    "\n",
    "Leaderboard tables → top-N per benchmark (simple, clear).\n",
    "\n",
    "Heatmap → models (rows) × benchmarks (cols), color = performance.\n",
    "\n",
    "Radar charts → capability profile (reasoning, coding, multimodal, efficiency, safety).\n",
    "\n",
    "Optional: Timeline plots of release date vs performance score."
   ]
  },
  {
   "cell_type": "markdown",
   "id": "e605c804",
   "metadata": {},
   "source": [
    "# Normalization and Visualizations"
   ]
  },
  {
   "cell_type": "markdown",
   "id": "828e90a1",
   "metadata": {},
   "source": [
    "## 1 Loading Libraries"
   ]
  },
  {
   "cell_type": "code",
   "execution_count": 2,
   "id": "6b549b5c",
   "metadata": {},
   "outputs": [],
   "source": [
    "import pandas as pd\n",
    "import matplotlib.pyplot as plt\n",
    "import seaborn as sns\n",
    "from sklearn.preprocessing import MinMaxScaler\n",
    "import numpy as np"
   ]
  },
  {
   "cell_type": "markdown",
   "id": "b186aa4a",
   "metadata": {},
   "source": [
    "## 2 Loading Data"
   ]
  },
  {
   "cell_type": "code",
   "execution_count": 4,
   "id": "c46d037e",
   "metadata": {},
   "outputs": [],
   "source": [
    "df_benchmarks = pd.read_csv(\"data/benchmarks_2025.csv\")\n",
    "df_efficiency = pd.read_csv(\"data/efficiency_2025.csv\")\n",
    "df_metadata = pd.read_csv(\"data/metadata_models.csv\")"
   ]
  },
  {
   "cell_type": "markdown",
   "id": "58b5223c",
   "metadata": {},
   "source": [
    "## 3 Normalizing Scores"
   ]
  },
  {
   "cell_type": "code",
   "execution_count": 5,
   "id": "d8d018a2",
   "metadata": {},
   "outputs": [],
   "source": [
    "scaler = MinMaxScaler(feature_range=(0,100))\n",
    "df_benchmarks[\"Score_Normalized\"] = df_benchmarks.groupby(\"Benchmark\")[\"Score\"].transform(\n",
    "    lambda x: scaler.fit_transform(x.values.reshape(-1,1)).flatten()\n",
    ")"
   ]
  },
  {
   "cell_type": "markdown",
   "id": "16290d78",
   "metadata": {},
   "source": [
    "## 4 Leaderboard Tables"
   ]
  },
  {
   "cell_type": "code",
   "execution_count": 7,
   "id": "e1d57491",
   "metadata": {},
   "outputs": [
    {
     "name": "stdout",
     "output_type": "stream",
     "text": [
      "\n",
      " Leaderboard for Humanity’s Last Exam\n"
     ]
    },
    {
     "data": {
      "text/html": [
       "<div>\n",
       "<style scoped>\n",
       "    .dataframe tbody tr th:only-of-type {\n",
       "        vertical-align: middle;\n",
       "    }\n",
       "\n",
       "    .dataframe tbody tr th {\n",
       "        vertical-align: top;\n",
       "    }\n",
       "\n",
       "    .dataframe thead th {\n",
       "        text-align: right;\n",
       "    }\n",
       "</style>\n",
       "<table border=\"1\" class=\"dataframe\">\n",
       "  <thead>\n",
       "    <tr style=\"text-align: right;\">\n",
       "      <th></th>\n",
       "      <th>Model</th>\n",
       "      <th>Provider</th>\n",
       "      <th>Score</th>\n",
       "      <th>Unit</th>\n",
       "      <th>Rank</th>\n",
       "    </tr>\n",
       "  </thead>\n",
       "  <tbody>\n",
       "    <tr>\n",
       "      <th>0</th>\n",
       "      <td>GPT-5</td>\n",
       "      <td>OpenAI</td>\n",
       "      <td>25.32</td>\n",
       "      <td>%</td>\n",
       "      <td>1</td>\n",
       "    </tr>\n",
       "    <tr>\n",
       "      <th>1</th>\n",
       "      <td>Gemini 2.5 Pro Preview</td>\n",
       "      <td>Google DeepMind</td>\n",
       "      <td>21.64</td>\n",
       "      <td>%</td>\n",
       "      <td>2</td>\n",
       "    </tr>\n",
       "    <tr>\n",
       "      <th>2</th>\n",
       "      <td>Qwen3-235B-Thinking</td>\n",
       "      <td>Alibaba</td>\n",
       "      <td>15.43</td>\n",
       "      <td>%</td>\n",
       "      <td>4</td>\n",
       "    </tr>\n",
       "    <tr>\n",
       "      <th>4</th>\n",
       "      <td>o3-mini (high)</td>\n",
       "      <td>OpenAI</td>\n",
       "      <td>13.37</td>\n",
       "      <td>%</td>\n",
       "      <td>6</td>\n",
       "    </tr>\n",
       "    <tr>\n",
       "      <th>3</th>\n",
       "      <td>Claude 4.1 Opus (Thinking)</td>\n",
       "      <td>Anthropic</td>\n",
       "      <td>11.52</td>\n",
       "      <td>%</td>\n",
       "      <td>5</td>\n",
       "    </tr>\n",
       "  </tbody>\n",
       "</table>\n",
       "</div>"
      ],
      "text/plain": [
       "                        Model         Provider  Score Unit  Rank\n",
       "0                       GPT-5           OpenAI  25.32    %     1\n",
       "1      Gemini 2.5 Pro Preview  Google DeepMind  21.64    %     2\n",
       "2         Qwen3-235B-Thinking          Alibaba  15.43    %     4\n",
       "4              o3-mini (high)           OpenAI  13.37    %     6\n",
       "3  Claude 4.1 Opus (Thinking)        Anthropic  11.52    %     5"
      ]
     },
     "metadata": {},
     "output_type": "display_data"
    },
    {
     "name": "stdout",
     "output_type": "stream",
     "text": [
      "\n",
      " Leaderboard for MMLU-Pro\n"
     ]
    },
    {
     "data": {
      "text/html": [
       "<div>\n",
       "<style scoped>\n",
       "    .dataframe tbody tr th:only-of-type {\n",
       "        vertical-align: middle;\n",
       "    }\n",
       "\n",
       "    .dataframe tbody tr th {\n",
       "        vertical-align: top;\n",
       "    }\n",
       "\n",
       "    .dataframe thead th {\n",
       "        text-align: right;\n",
       "    }\n",
       "</style>\n",
       "<table border=\"1\" class=\"dataframe\">\n",
       "  <thead>\n",
       "    <tr style=\"text-align: right;\">\n",
       "      <th></th>\n",
       "      <th>Model</th>\n",
       "      <th>Provider</th>\n",
       "      <th>Score</th>\n",
       "      <th>Unit</th>\n",
       "      <th>Rank</th>\n",
       "    </tr>\n",
       "  </thead>\n",
       "  <tbody>\n",
       "    <tr>\n",
       "      <th>5</th>\n",
       "      <td>Gemini 2.5 Pro Exp</td>\n",
       "      <td>Google DeepMind</td>\n",
       "      <td>84.1</td>\n",
       "      <td>%</td>\n",
       "      <td>1</td>\n",
       "    </tr>\n",
       "    <tr>\n",
       "      <th>6</th>\n",
       "      <td>o1</td>\n",
       "      <td>OpenAI</td>\n",
       "      <td>83.5</td>\n",
       "      <td>%</td>\n",
       "      <td>2</td>\n",
       "    </tr>\n",
       "    <tr>\n",
       "      <th>7</th>\n",
       "      <td>Gemini 2.0 Flash</td>\n",
       "      <td>Google DeepMind</td>\n",
       "      <td>77.4</td>\n",
       "      <td>%</td>\n",
       "      <td>3</td>\n",
       "    </tr>\n",
       "  </tbody>\n",
       "</table>\n",
       "</div>"
      ],
      "text/plain": [
       "                Model         Provider  Score Unit  Rank\n",
       "5  Gemini 2.5 Pro Exp  Google DeepMind   84.1    %     1\n",
       "6                  o1           OpenAI   83.5    %     2\n",
       "7    Gemini 2.0 Flash  Google DeepMind   77.4    %     3"
      ]
     },
     "metadata": {},
     "output_type": "display_data"
    }
   ],
   "source": [
    "for bench in df_benchmarks[\"Benchmark\"].unique():\n",
    "    print(f\"\\n Leaderboard for {bench}\")\n",
    "    display(df_benchmarks[df_benchmarks[\"Benchmark\"]==bench]\n",
    "            .sort_values(\"Score\", ascending=False)\n",
    "            [[\"Model\", \"Provider\", \"Score\", \"Unit\", \"Rank\"]])"
   ]
  },
  {
   "cell_type": "markdown",
   "id": "78e7733c",
   "metadata": {},
   "source": [
    "## 5 Heatmap"
   ]
  },
  {
   "cell_type": "code",
   "execution_count": 8,
   "id": "840f5bb9",
   "metadata": {},
   "outputs": [
    {
     "data": {
      "image/png": "[encoded data removed]",
      "text/plain": [
       "<Figure size 1000x600 with 2 Axes>"
      ]
     },
     "metadata": {},
     "output_type": "display_data"
    }
   ],
   "source": [
    "heatmap_data = df_benchmarks.pivot(index=\"Model\", columns=\"Benchmark\", values=\"Score_Normalized\")\n",
    "\n",
    "plt.figure(figsize=(10,6))\n",
    "sns.heatmap(heatmap_data, annot=True, cmap=\"Blues\", cbar_kws={'label': 'Normalized Score (0-100)'})\n",
    "plt.title(\"Model Performanc Heatmap (Normalized Scores)\")\n",
    "plt.show()"
   ]
  }
 ],
 "metadata": {
  "kernelspec": {
   "display_name": "Python 3",
   "language": "python",
   "name": "python3"
  },
  "language_info": {
   "codemirror_mode": {
    "name": "ipython",
    "version": 3
   },
   "file_extension": ".py",
   "mimetype": "text/x-python",
   "name": "python",
   "nbconvert_exporter": "python",
   "pygments_lexer": "ipython3",
   "version": "3.12.1"
  }
 },
 "nbformat": 4,
 "nbformat_minor": 5
}
